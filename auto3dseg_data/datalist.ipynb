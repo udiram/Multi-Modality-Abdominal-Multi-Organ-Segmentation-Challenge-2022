{
 "cells": [
  {
   "cell_type": "code",
   "execution_count": 1,
   "metadata": {},
   "outputs": [
    {
     "name": "stdout",
     "output_type": "stream",
     "text": [
      "/home/exouser/Documents\n"
     ]
    }
   ],
   "source": [
    "import os\n",
    "import json\n",
    "import random\n",
    "import shutil\n",
    "print(os.getcwd())"
   ]
  },
  {
   "cell_type": "code",
   "execution_count": 2,
   "metadata": {},
   "outputs": [],
   "source": [
    "datalist_json = {\n",
    "    \"testing\": [],\n",
    "    \"training\": []\n",
    "}"
   ]
  },
  {
   "cell_type": "code",
   "execution_count": 3,
   "metadata": {},
   "outputs": [],
   "source": [
    "for file in os.listdir('data/imagesTs'):\n",
    "    datalist_json['testing'].append({\n",
    "        \"image\": 'imagesTs/' + file,\n",
    "    })"
   ]
  },
  {
   "cell_type": "code",
   "execution_count": 4,
   "metadata": {},
   "outputs": [
    {
     "data": {
      "text/plain": [
       "[{'image': 'imagesTs/amos_0022.nii.gz'},\n",
       " {'image': 'imagesTs/amos_0112.nii.gz'},\n",
       " {'image': 'imagesTs/amos_0352.nii.gz'},\n",
       " {'image': 'imagesTs/amos_0206.nii.gz'},\n",
       " {'image': 'imagesTs/amos_0238.nii.gz'},\n",
       " {'image': 'imagesTs/amos_0202.nii.gz'},\n",
       " {'image': 'imagesTs/amos_0167.nii.gz'},\n",
       " {'image': 'imagesTs/amos_0318.nii.gz'},\n",
       " {'image': 'imagesTs/amos_0552.nii.gz'},\n",
       " {'image': 'imagesTs/amos_0547.nii.gz'}]"
      ]
     },
     "execution_count": 4,
     "metadata": {},
     "output_type": "execute_result"
    }
   ],
   "source": [
    "datalist_json['testing'][:10]"
   ]
  },
  {
   "cell_type": "code",
   "execution_count": 5,
   "metadata": {},
   "outputs": [],
   "source": [
    "for file in os.listdir('data/imagesTr'):\n",
    "    datalist_json[\"training\"].append({\n",
    "        \"image\": \"imagesTr/\" + file, \n",
    "        \"label\": 'labelsTr/'+ file, \n",
    "        \"fold\": 0\n",
    "    })"
   ]
  },
  {
   "cell_type": "code",
   "execution_count": 6,
   "metadata": {},
   "outputs": [
    {
     "data": {
      "text/plain": [
       "[{'image': 'imagesTr/amos_0586.nii.gz',\n",
       "  'label': 'labelsTr/amos_0586.nii.gz',\n",
       "  'fold': 0},\n",
       " {'image': 'imagesTr/amos_0276.nii.gz',\n",
       "  'label': 'labelsTr/amos_0276.nii.gz',\n",
       "  'fold': 0},\n",
       " {'image': 'imagesTr/amos_0071.nii.gz',\n",
       "  'label': 'labelsTr/amos_0071.nii.gz',\n",
       "  'fold': 0},\n",
       " {'image': 'imagesTr/amos_0588.nii.gz',\n",
       "  'label': 'labelsTr/amos_0588.nii.gz',\n",
       "  'fold': 0},\n",
       " {'image': 'imagesTr/amos_0518.nii.gz',\n",
       "  'label': 'labelsTr/amos_0518.nii.gz',\n",
       "  'fold': 0},\n",
       " {'image': 'imagesTr/amos_0580.nii.gz',\n",
       "  'label': 'labelsTr/amos_0580.nii.gz',\n",
       "  'fold': 0},\n",
       " {'image': 'imagesTr/amos_0571.nii.gz',\n",
       "  'label': 'labelsTr/amos_0571.nii.gz',\n",
       "  'fold': 0},\n",
       " {'image': 'imagesTr/amos_0141.nii.gz',\n",
       "  'label': 'labelsTr/amos_0141.nii.gz',\n",
       "  'fold': 0},\n",
       " {'image': 'imagesTr/amos_0048.nii.gz',\n",
       "  'label': 'labelsTr/amos_0048.nii.gz',\n",
       "  'fold': 0},\n",
       " {'image': 'imagesTr/amos_0072.nii.gz',\n",
       "  'label': 'labelsTr/amos_0072.nii.gz',\n",
       "  'fold': 0}]"
      ]
     },
     "execution_count": 6,
     "metadata": {},
     "output_type": "execute_result"
    }
   ],
   "source": [
    "datalist_json['training'][:10]"
   ]
  },
  {
   "cell_type": "code",
   "execution_count": 7,
   "metadata": {},
   "outputs": [
    {
     "data": {
      "text/plain": [
       "[{'image': 'imagesTr/amos_0111.nii.gz',\n",
       "  'label': 'labelsTr/amos_0111.nii.gz',\n",
       "  'fold': 0},\n",
       " {'image': 'imagesTr/amos_0341.nii.gz',\n",
       "  'label': 'labelsTr/amos_0341.nii.gz',\n",
       "  'fold': 0},\n",
       " {'image': 'imagesTr/amos_0072.nii.gz',\n",
       "  'label': 'labelsTr/amos_0072.nii.gz',\n",
       "  'fold': 0},\n",
       " {'image': 'imagesTr/amos_0597.nii.gz',\n",
       "  'label': 'labelsTr/amos_0597.nii.gz',\n",
       "  'fold': 0},\n",
       " {'image': 'imagesTr/amos_0384.nii.gz',\n",
       "  'label': 'labelsTr/amos_0384.nii.gz',\n",
       "  'fold': 0},\n",
       " {'image': 'imagesTr/amos_0019.nii.gz',\n",
       "  'label': 'labelsTr/amos_0019.nii.gz',\n",
       "  'fold': 0},\n",
       " {'image': 'imagesTr/amos_0383.nii.gz',\n",
       "  'label': 'labelsTr/amos_0383.nii.gz',\n",
       "  'fold': 0},\n",
       " {'image': 'imagesTr/amos_0152.nii.gz',\n",
       "  'label': 'labelsTr/amos_0152.nii.gz',\n",
       "  'fold': 0},\n",
       " {'image': 'imagesTr/amos_0105.nii.gz',\n",
       "  'label': 'labelsTr/amos_0105.nii.gz',\n",
       "  'fold': 0},\n",
       " {'image': 'imagesTr/amos_0064.nii.gz',\n",
       "  'label': 'labelsTr/amos_0064.nii.gz',\n",
       "  'fold': 0}]"
      ]
     },
     "execution_count": 7,
     "metadata": {},
     "output_type": "execute_result"
    }
   ],
   "source": [
    "random.seed(42)\n",
    "random.shuffle(datalist_json['training'])\n",
    "datalist_json['training'][:10]"
   ]
  },
  {
   "cell_type": "code",
   "execution_count": 8,
   "metadata": {},
   "outputs": [],
   "source": [
    "num_folds = 5\n",
    "fold_size = len(datalist_json['training']) // num_folds\n",
    "for i in range(num_folds):\n",
    "    for j in range(fold_size):\n",
    "        datalist_json['training'][i * fold_size + j]['fold'] = i"
   ]
  },
  {
   "cell_type": "code",
   "execution_count": 9,
   "metadata": {},
   "outputs": [
    {
     "data": {
      "text/plain": [
       "[{'image': 'imagesTr/amos_0111.nii.gz',\n",
       "  'label': 'labelsTr/amos_0111.nii.gz',\n",
       "  'fold': 0},\n",
       " {'image': 'imagesTr/amos_0341.nii.gz',\n",
       "  'label': 'labelsTr/amos_0341.nii.gz',\n",
       "  'fold': 0},\n",
       " {'image': 'imagesTr/amos_0072.nii.gz',\n",
       "  'label': 'labelsTr/amos_0072.nii.gz',\n",
       "  'fold': 0},\n",
       " {'image': 'imagesTr/amos_0597.nii.gz',\n",
       "  'label': 'labelsTr/amos_0597.nii.gz',\n",
       "  'fold': 0},\n",
       " {'image': 'imagesTr/amos_0384.nii.gz',\n",
       "  'label': 'labelsTr/amos_0384.nii.gz',\n",
       "  'fold': 0}]"
      ]
     },
     "execution_count": 9,
     "metadata": {},
     "output_type": "execute_result"
    }
   ],
   "source": [
    "datalist_json['training'][:5]"
   ]
  },
  {
   "cell_type": "code",
   "execution_count": 10,
   "metadata": {},
   "outputs": [],
   "source": [
    "with open('datalist.json', 'w', encoding='utf-8') as f:\n",
    "    json.dump(datalist_json, f, ensure_ascii=False, indent=4)"
   ]
  },
  {
   "cell_type": "code",
   "execution_count": null,
   "metadata": {},
   "outputs": [],
   "source": []
  }
 ],
 "metadata": {
  "kernelspec": {
   "display_name": "Python 3 (ipykernel)",
   "language": "python",
   "name": "python3"
  },
  "language_info": {
   "codemirror_mode": {
    "name": "ipython",
    "version": 3
   },
   "file_extension": ".py",
   "mimetype": "text/x-python",
   "name": "python",
   "nbconvert_exporter": "python",
   "pygments_lexer": "ipython3",
   "version": "3.10.6"
  }
 },
 "nbformat": 4,
 "nbformat_minor": 4
}
