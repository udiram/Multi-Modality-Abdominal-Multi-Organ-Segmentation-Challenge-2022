{
 "cells": [
  {
   "cell_type": "code",
   "execution_count": 139,
   "outputs": [],
   "source": [
    "import pandas as pd"
   ],
   "metadata": {
    "collapsed": false,
    "pycharm": {
     "name": "#%%\n"
    }
   }
  },
  {
   "cell_type": "code",
   "execution_count": 140,
   "outputs": [],
   "source": [
    "df = pd.read_csv('data/FixIt.csv', index_col=None)"
   ],
   "metadata": {
    "collapsed": false,
    "pycharm": {
     "name": "#%%\n"
    }
   }
  },
  {
   "cell_type": "code",
   "execution_count": 141,
   "outputs": [
    {
     "name": "stdout",
     "output_type": "stream",
     "text": [
      "['A', 'Label', 'BARCODE']\n"
     ]
    }
   ],
   "source": [
    "df.head()\n",
    "print(df.columns.tolist())"
   ],
   "metadata": {
    "collapsed": false,
    "pycharm": {
     "name": "#%%\n"
    }
   }
  },
  {
   "cell_type": "code",
   "execution_count": 156,
   "outputs": [
    {
     "data": {
      "text/plain": "                             BARCODE\n0  @52070900777209100209406331451827\n1  @52070900777209100209406331451844\n2  @52070900777210100209406331451864\n3  @52070900777210100209406331451879\n4  @52070900777210100209406331451886",
      "text/html": "<div>\n<style scoped>\n    .dataframe tbody tr th:only-of-type {\n        vertical-align: middle;\n    }\n\n    .dataframe tbody tr th {\n        vertical-align: top;\n    }\n\n    .dataframe thead th {\n        text-align: right;\n    }\n</style>\n<table border=\"1\" class=\"dataframe\">\n  <thead>\n    <tr style=\"text-align: right;\">\n      <th></th>\n      <th>BARCODE</th>\n    </tr>\n  </thead>\n  <tbody>\n    <tr>\n      <th>0</th>\n      <td>@52070900777209100209406331451827</td>\n    </tr>\n    <tr>\n      <th>1</th>\n      <td>@52070900777209100209406331451844</td>\n    </tr>\n    <tr>\n      <th>2</th>\n      <td>@52070900777210100209406331451864</td>\n    </tr>\n    <tr>\n      <th>3</th>\n      <td>@52070900777210100209406331451879</td>\n    </tr>\n    <tr>\n      <th>4</th>\n      <td>@52070900777210100209406331451886</td>\n    </tr>\n  </tbody>\n</table>\n</div>"
     },
     "execution_count": 156,
     "metadata": {},
     "output_type": "execute_result"
    }
   ],
   "source": [
    "import numpy as np\n",
    "dfA = df.loc[:,['A', 'Label']]\n",
    "# drop nans in column bar\n",
    "dfB = df.loc[:,['BARCODE']]\n",
    "dfB = dfB.dropna(axis=0, how='any')\n",
    "dfB.reset_index(drop=True, inplace=True)\n",
    "dfB.head()"
   ],
   "metadata": {
    "collapsed": false,
    "pycharm": {
     "name": "#%%\n"
    }
   }
  },
  {
   "cell_type": "code",
   "execution_count": 157,
   "outputs": [
    {
     "data": {
      "text/plain": "                                       A     Label\n0  @52070900777209100209406331451825.CEL  0.910223\n1  @52070900777209100209406331451827.CEL  0.819914\n2  @52070900777209100209406331451844.CEL  0.676532\n3  @52070900777210100209406331451864.CEL  1.072747\n4  @52070900777210100209406331451879.CEL  0.843531",
      "text/html": "<div>\n<style scoped>\n    .dataframe tbody tr th:only-of-type {\n        vertical-align: middle;\n    }\n\n    .dataframe tbody tr th {\n        vertical-align: top;\n    }\n\n    .dataframe thead th {\n        text-align: right;\n    }\n</style>\n<table border=\"1\" class=\"dataframe\">\n  <thead>\n    <tr style=\"text-align: right;\">\n      <th></th>\n      <th>A</th>\n      <th>Label</th>\n    </tr>\n  </thead>\n  <tbody>\n    <tr>\n      <th>0</th>\n      <td>@52070900777209100209406331451825.CEL</td>\n      <td>0.910223</td>\n    </tr>\n    <tr>\n      <th>1</th>\n      <td>@52070900777209100209406331451827.CEL</td>\n      <td>0.819914</td>\n    </tr>\n    <tr>\n      <th>2</th>\n      <td>@52070900777209100209406331451844.CEL</td>\n      <td>0.676532</td>\n    </tr>\n    <tr>\n      <th>3</th>\n      <td>@52070900777210100209406331451864.CEL</td>\n      <td>1.072747</td>\n    </tr>\n    <tr>\n      <th>4</th>\n      <td>@52070900777210100209406331451879.CEL</td>\n      <td>0.843531</td>\n    </tr>\n  </tbody>\n</table>\n</div>"
     },
     "execution_count": 157,
     "metadata": {},
     "output_type": "execute_result"
    }
   ],
   "source": [
    "dfA.head()"
   ],
   "metadata": {
    "collapsed": false,
    "pycharm": {
     "name": "#%%\n"
    }
   }
  },
  {
   "cell_type": "code",
   "execution_count": 158,
   "outputs": [],
   "source": [
    "A_arr = []\n",
    "for i, row in dfA.iterrows():\n",
    "    A_col_ID = row[0].split('.')[0]\n",
    "    str_A_col_ID = A_col_ID.replace('@', '')\n",
    "    A_arr.append(str_A_col_ID)\n",
    "dfA.loc[:, 'barcodeId'] = A_arr\n"
   ],
   "metadata": {
    "collapsed": false,
    "pycharm": {
     "name": "#%%\n"
    }
   }
  },
  {
   "cell_type": "code",
   "execution_count": 159,
   "outputs": [],
   "source": [
    "# dfA['A'] = A_arr"
   ],
   "metadata": {
    "collapsed": false,
    "pycharm": {
     "name": "#%%\n"
    }
   }
  },
  {
   "cell_type": "code",
   "execution_count": 160,
   "outputs": [
    {
     "data": {
      "text/plain": "                                       A     Label  \\\n0  @52070900777209100209406331451825.CEL  0.910223   \n1  @52070900777209100209406331451827.CEL  0.819914   \n2  @52070900777209100209406331451844.CEL  0.676532   \n3  @52070900777210100209406331451864.CEL  1.072747   \n4  @52070900777210100209406331451879.CEL  0.843531   \n\n                          barcodeId  \n0  52070900777209100209406331451825  \n1  52070900777209100209406331451827  \n2  52070900777209100209406331451844  \n3  52070900777210100209406331451864  \n4  52070900777210100209406331451879  ",
      "text/html": "<div>\n<style scoped>\n    .dataframe tbody tr th:only-of-type {\n        vertical-align: middle;\n    }\n\n    .dataframe tbody tr th {\n        vertical-align: top;\n    }\n\n    .dataframe thead th {\n        text-align: right;\n    }\n</style>\n<table border=\"1\" class=\"dataframe\">\n  <thead>\n    <tr style=\"text-align: right;\">\n      <th></th>\n      <th>A</th>\n      <th>Label</th>\n      <th>barcodeId</th>\n    </tr>\n  </thead>\n  <tbody>\n    <tr>\n      <th>0</th>\n      <td>@52070900777209100209406331451825.CEL</td>\n      <td>0.910223</td>\n      <td>52070900777209100209406331451825</td>\n    </tr>\n    <tr>\n      <th>1</th>\n      <td>@52070900777209100209406331451827.CEL</td>\n      <td>0.819914</td>\n      <td>52070900777209100209406331451827</td>\n    </tr>\n    <tr>\n      <th>2</th>\n      <td>@52070900777209100209406331451844.CEL</td>\n      <td>0.676532</td>\n      <td>52070900777209100209406331451844</td>\n    </tr>\n    <tr>\n      <th>3</th>\n      <td>@52070900777210100209406331451864.CEL</td>\n      <td>1.072747</td>\n      <td>52070900777210100209406331451864</td>\n    </tr>\n    <tr>\n      <th>4</th>\n      <td>@52070900777210100209406331451879.CEL</td>\n      <td>0.843531</td>\n      <td>52070900777210100209406331451879</td>\n    </tr>\n  </tbody>\n</table>\n</div>"
     },
     "execution_count": 160,
     "metadata": {},
     "output_type": "execute_result"
    }
   ],
   "source": [
    "dfA.head()"
   ],
   "metadata": {
    "collapsed": false,
    "pycharm": {
     "name": "#%%\n"
    }
   }
  },
  {
   "cell_type": "code",
   "execution_count": 161,
   "outputs": [],
   "source": [
    "B_arr = []\n",
    "for i, row in dfB.iterrows():\n",
    "    if isinstance(row['BARCODE'], str):\n",
    "        str_B_col_ID = row['BARCODE'][1:]\n",
    "        B_arr.append(str_B_col_ID)\n",
    "    else:\n",
    "        B_arr.append('')\n",
    "dfB.loc[:, 'barcodeId'] = B_arr"
   ],
   "metadata": {
    "collapsed": false,
    "pycharm": {
     "name": "#%%\n"
    }
   }
  },
  {
   "cell_type": "code",
   "execution_count": 162,
   "outputs": [
    {
     "data": {
      "text/plain": "                               BARCODE                         barcodeId\n0    @52070900777209100209406331451827  52070900777209100209406331451827\n1    @52070900777209100209406331451844  52070900777209100209406331451844\n2    @52070900777210100209406331451864  52070900777210100209406331451864\n3    @52070900777210100209406331451879  52070900777210100209406331451879\n4    @52070900777210100209406331451886  52070900777210100209406331451886\n..                                 ...                               ...\n330  @52070900908407090911411361598805  52070900908407090911411361598805\n331  @52070900910049111411412086664470  52070900910049111411412086664470\n332  @52070900910054111411412086464990  52070900910054111411412086464990\n333  @52070900910054111411412086465003  52070900910054111411412086465003\n334  @52070900910057111411412086465158  52070900910057111411412086465158\n\n[335 rows x 2 columns]",
      "text/html": "<div>\n<style scoped>\n    .dataframe tbody tr th:only-of-type {\n        vertical-align: middle;\n    }\n\n    .dataframe tbody tr th {\n        vertical-align: top;\n    }\n\n    .dataframe thead th {\n        text-align: right;\n    }\n</style>\n<table border=\"1\" class=\"dataframe\">\n  <thead>\n    <tr style=\"text-align: right;\">\n      <th></th>\n      <th>BARCODE</th>\n      <th>barcodeId</th>\n    </tr>\n  </thead>\n  <tbody>\n    <tr>\n      <th>0</th>\n      <td>@52070900777209100209406331451827</td>\n      <td>52070900777209100209406331451827</td>\n    </tr>\n    <tr>\n      <th>1</th>\n      <td>@52070900777209100209406331451844</td>\n      <td>52070900777209100209406331451844</td>\n    </tr>\n    <tr>\n      <th>2</th>\n      <td>@52070900777210100209406331451864</td>\n      <td>52070900777210100209406331451864</td>\n    </tr>\n    <tr>\n      <th>3</th>\n      <td>@52070900777210100209406331451879</td>\n      <td>52070900777210100209406331451879</td>\n    </tr>\n    <tr>\n      <th>4</th>\n      <td>@52070900777210100209406331451886</td>\n      <td>52070900777210100209406331451886</td>\n    </tr>\n    <tr>\n      <th>...</th>\n      <td>...</td>\n      <td>...</td>\n    </tr>\n    <tr>\n      <th>330</th>\n      <td>@52070900908407090911411361598805</td>\n      <td>52070900908407090911411361598805</td>\n    </tr>\n    <tr>\n      <th>331</th>\n      <td>@52070900910049111411412086664470</td>\n      <td>52070900910049111411412086664470</td>\n    </tr>\n    <tr>\n      <th>332</th>\n      <td>@52070900910054111411412086464990</td>\n      <td>52070900910054111411412086464990</td>\n    </tr>\n    <tr>\n      <th>333</th>\n      <td>@52070900910054111411412086465003</td>\n      <td>52070900910054111411412086465003</td>\n    </tr>\n    <tr>\n      <th>334</th>\n      <td>@52070900910057111411412086465158</td>\n      <td>52070900910057111411412086465158</td>\n    </tr>\n  </tbody>\n</table>\n<p>335 rows × 2 columns</p>\n</div>"
     },
     "execution_count": 162,
     "metadata": {},
     "output_type": "execute_result"
    }
   ],
   "source": [
    "dfB"
   ],
   "metadata": {
    "collapsed": false,
    "pycharm": {
     "name": "#%%\n"
    }
   }
  },
  {
   "cell_type": "code",
   "execution_count": 167,
   "outputs": [
    {
     "data": {
      "text/plain": "                                       A     Label  \\\n0  @52070900777209100209406331451827.CEL  0.819914   \n1  @52070900777209100209406331451844.CEL  0.676532   \n2  @52070900777210100209406331451864.CEL  1.072747   \n3  @52070900777210100209406331451879.CEL  0.843531   \n4  @52070900777210100209406331451886.CEL  0.825570   \n\n                             BARCODE  \n0  @52070900777209100209406331451827  \n1  @52070900777209100209406331451844  \n2  @52070900777210100209406331451864  \n3  @52070900777210100209406331451879  \n4  @52070900777210100209406331451886  ",
      "text/html": "<div>\n<style scoped>\n    .dataframe tbody tr th:only-of-type {\n        vertical-align: middle;\n    }\n\n    .dataframe tbody tr th {\n        vertical-align: top;\n    }\n\n    .dataframe thead th {\n        text-align: right;\n    }\n</style>\n<table border=\"1\" class=\"dataframe\">\n  <thead>\n    <tr style=\"text-align: right;\">\n      <th></th>\n      <th>A</th>\n      <th>Label</th>\n      <th>BARCODE</th>\n    </tr>\n  </thead>\n  <tbody>\n    <tr>\n      <th>0</th>\n      <td>@52070900777209100209406331451827.CEL</td>\n      <td>0.819914</td>\n      <td>@52070900777209100209406331451827</td>\n    </tr>\n    <tr>\n      <th>1</th>\n      <td>@52070900777209100209406331451844.CEL</td>\n      <td>0.676532</td>\n      <td>@52070900777209100209406331451844</td>\n    </tr>\n    <tr>\n      <th>2</th>\n      <td>@52070900777210100209406331451864.CEL</td>\n      <td>1.072747</td>\n      <td>@52070900777210100209406331451864</td>\n    </tr>\n    <tr>\n      <th>3</th>\n      <td>@52070900777210100209406331451879.CEL</td>\n      <td>0.843531</td>\n      <td>@52070900777210100209406331451879</td>\n    </tr>\n    <tr>\n      <th>4</th>\n      <td>@52070900777210100209406331451886.CEL</td>\n      <td>0.825570</td>\n      <td>@52070900777210100209406331451886</td>\n    </tr>\n  </tbody>\n</table>\n</div>"
     },
     "execution_count": 167,
     "metadata": {},
     "output_type": "execute_result"
    }
   ],
   "source": [
    "#inner join the two dataframes on the barcodeId column\n",
    "df_final = pd.merge(dfA, dfB, on='barcodeId', how='inner')\n",
    "df_final.drop(columns=['barcodeId'], inplace=True)\n",
    "df_final.head()"
   ],
   "metadata": {
    "collapsed": false,
    "pycharm": {
     "name": "#%%\n"
    }
   }
  },
  {
   "cell_type": "code",
   "execution_count": 168,
   "outputs": [],
   "source": [
    "df_final.to_csv('data/FixIt_final.csv')"
   ],
   "metadata": {
    "collapsed": false,
    "pycharm": {
     "name": "#%%\n"
    }
   }
  },
  {
   "cell_type": "code",
   "execution_count": null,
   "outputs": [],
   "source": [],
   "metadata": {
    "collapsed": false,
    "pycharm": {
     "name": "#%%\n"
    }
   }
  }
 ],
 "metadata": {
  "kernelspec": {
   "display_name": "Python 3",
   "language": "python",
   "name": "python3"
  },
  "language_info": {
   "codemirror_mode": {
    "name": "ipython",
    "version": 2
   },
   "file_extension": ".py",
   "mimetype": "text/x-python",
   "name": "python",
   "nbconvert_exporter": "python",
   "pygments_lexer": "ipython2",
   "version": "2.7.6"
  }
 },
 "nbformat": 4,
 "nbformat_minor": 0
}