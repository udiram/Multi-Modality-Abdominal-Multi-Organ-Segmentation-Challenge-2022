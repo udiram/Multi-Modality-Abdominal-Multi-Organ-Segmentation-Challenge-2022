{
 "cells": [
  {
   "cell_type": "code",
   "execution_count": 1,
   "outputs": [
    {
     "name": "stdout",
     "output_type": "stream",
     "text": [
      "img:\n",
      " <class 'nibabel.nifti1.Nifti1Image'>\n",
      "data shape (768, 768, 90)\n",
      "affine: \n",
      "[[  -0.5703125    0.           0.         233.       ]\n",
      " [   0.           0.5703125    0.        -373.4296875]\n",
      " [   0.           0.           5.          26.5      ]\n",
      " [   0.           0.           0.           1.       ]]\n",
      "metadata:\n",
      "<class 'nibabel.nifti1.Nifti1Header'> object, endian='<'\n",
      "sizeof_hdr      : 348\n",
      "data_type       : b''\n",
      "db_name         : b''\n",
      "extents         : 0\n",
      "session_error   : 0\n",
      "regular         : b'r'\n",
      "dim_info        : 0\n",
      "dim             : [  3 768 768  90   1   1   1   1]\n",
      "intent_p1       : 0.0\n",
      "intent_p2       : 0.0\n",
      "intent_p3       : 0.0\n",
      "intent_code     : none\n",
      "datatype        : uint16\n",
      "bitpix          : 16\n",
      "slice_start     : 0\n",
      "pixdim          : [-1.         0.5703125  0.5703125  5.         0.         0.\n",
      "  0.         0.       ]\n",
      "vox_offset      : 0.0\n",
      "scl_slope       : nan\n",
      "scl_inter       : nan\n",
      "slice_end       : 0\n",
      "slice_code      : unknown\n",
      "xyzt_units      : 2\n",
      "cal_max         : 0.0\n",
      "cal_min         : 0.0\n",
      "slice_duration  : 0.0\n",
      "toffset         : 0.0\n",
      "glmax           : 0\n",
      "glmin           : 0\n",
      "descrip         : b''\n",
      "aux_file        : b''\n",
      "qform_code      : scanner\n",
      "sform_code      : unknown\n",
      "quatern_b       : -0.0\n",
      "quatern_c       : 1.0\n",
      "quatern_d       : 0.0\n",
      "qoffset_x       : 233.0\n",
      "qoffset_y       : -373.4297\n",
      "qoffset_z       : 26.5\n",
      "srow_x          : [0. 0. 0. 0.]\n",
      "srow_y          : [0. 0. 0. 0.]\n",
      "srow_z          : [0. 0. 0. 0.]\n",
      "intent_name     : b''\n",
      "magic           : b'n+1'\n",
      "img.header:\n",
      " b''\n",
      "768 768 90\n"
     ]
    },
    {
     "name": "stderr",
     "output_type": "stream",
     "text": [
      "Traceback (most recent call last):\n",
      "  File \"C:\\Users\\sathy\\OneDrive\\Documents\\GitHub\\Multi-Modality-Abdominal-Multi-Organ-Segmentation-Challenge-2022\\venv\\lib\\site-packages\\matplotlib\\cbook\\__init__.py\", line 287, in process\n",
      "    func(*args, **kwargs)\n",
      "TypeError: _cleanup() takes 1 positional argument but 2 were given\n"
     ]
    },
    {
     "ename": "ValueError",
     "evalue": "num must be 1 <= num <= 8, not 9",
     "output_type": "error",
     "traceback": [
      "\u001B[1;31m---------------------------------------------------------------------------\u001B[0m",
      "\u001B[1;31mValueError\u001B[0m                                Traceback (most recent call last)",
      "Input \u001B[1;32mIn [1]\u001B[0m, in \u001B[0;36m<cell line: 22>\u001B[1;34m()\u001B[0m\n\u001B[0;32m     22\u001B[0m \u001B[38;5;28;01mfor\u001B[39;00m i \u001B[38;5;129;01min\u001B[39;00m \u001B[38;5;28mrange\u001B[39m(\u001B[38;5;241m0\u001B[39m, queue, \u001B[38;5;241m11\u001B[39m):\n\u001B[0;32m     23\u001B[0m     img_arr \u001B[38;5;241m=\u001B[39m img\u001B[38;5;241m.\u001B[39mdataobj[:, :, i]\n\u001B[1;32m---> 24\u001B[0m     \u001B[43mplt\u001B[49m\u001B[38;5;241;43m.\u001B[39;49m\u001B[43msubplot\u001B[49m\u001B[43m(\u001B[49m\u001B[38;5;241;43m2\u001B[39;49m\u001B[43m,\u001B[49m\u001B[43m \u001B[49m\u001B[38;5;241;43m4\u001B[39;49m\u001B[43m,\u001B[49m\u001B[43m \u001B[49m\u001B[43mnum\u001B[49m\u001B[43m)\u001B[49m\n\u001B[0;32m     25\u001B[0m     plt\u001B[38;5;241m.\u001B[39mimshow(img_arr)\n\u001B[0;32m     26\u001B[0m     num \u001B[38;5;241m+\u001B[39m\u001B[38;5;241m=\u001B[39m \u001B[38;5;241m1\u001B[39m\n",
      "File \u001B[1;32m~\\OneDrive\\Documents\\GitHub\\Multi-Modality-Abdominal-Multi-Organ-Segmentation-Challenge-2022\\venv\\lib\\site-packages\\matplotlib\\pyplot.py:1289\u001B[0m, in \u001B[0;36msubplot\u001B[1;34m(*args, **kwargs)\u001B[0m\n\u001B[0;32m   1286\u001B[0m fig \u001B[38;5;241m=\u001B[39m gcf()\n\u001B[0;32m   1288\u001B[0m \u001B[38;5;66;03m# First, search for an existing subplot with a matching spec.\u001B[39;00m\n\u001B[1;32m-> 1289\u001B[0m key \u001B[38;5;241m=\u001B[39m \u001B[43mSubplotSpec\u001B[49m\u001B[38;5;241;43m.\u001B[39;49m\u001B[43m_from_subplot_args\u001B[49m\u001B[43m(\u001B[49m\u001B[43mfig\u001B[49m\u001B[43m,\u001B[49m\u001B[43m \u001B[49m\u001B[43margs\u001B[49m\u001B[43m)\u001B[49m\n\u001B[0;32m   1291\u001B[0m \u001B[38;5;28;01mfor\u001B[39;00m ax \u001B[38;5;129;01min\u001B[39;00m fig\u001B[38;5;241m.\u001B[39maxes:\n\u001B[0;32m   1292\u001B[0m     \u001B[38;5;66;03m# if we found an axes at the position sort out if we can re-use it\u001B[39;00m\n\u001B[0;32m   1293\u001B[0m     \u001B[38;5;28;01mif\u001B[39;00m \u001B[38;5;28mhasattr\u001B[39m(ax, \u001B[38;5;124m'\u001B[39m\u001B[38;5;124mget_subplotspec\u001B[39m\u001B[38;5;124m'\u001B[39m) \u001B[38;5;129;01mand\u001B[39;00m ax\u001B[38;5;241m.\u001B[39mget_subplotspec() \u001B[38;5;241m==\u001B[39m key:\n\u001B[0;32m   1294\u001B[0m         \u001B[38;5;66;03m# if the user passed no kwargs, re-use\u001B[39;00m\n",
      "File \u001B[1;32m~\\OneDrive\\Documents\\GitHub\\Multi-Modality-Abdominal-Multi-Organ-Segmentation-Challenge-2022\\venv\\lib\\site-packages\\matplotlib\\gridspec.py:608\u001B[0m, in \u001B[0;36mSubplotSpec._from_subplot_args\u001B[1;34m(figure, args)\u001B[0m\n\u001B[0;32m    606\u001B[0m \u001B[38;5;28;01melse\u001B[39;00m:\n\u001B[0;32m    607\u001B[0m     \u001B[38;5;28;01mif\u001B[39;00m \u001B[38;5;129;01mnot\u001B[39;00m \u001B[38;5;28misinstance\u001B[39m(num, Integral) \u001B[38;5;129;01mor\u001B[39;00m num \u001B[38;5;241m<\u001B[39m \u001B[38;5;241m1\u001B[39m \u001B[38;5;129;01mor\u001B[39;00m num \u001B[38;5;241m>\u001B[39m rows\u001B[38;5;241m*\u001B[39mcols:\n\u001B[1;32m--> 608\u001B[0m         \u001B[38;5;28;01mraise\u001B[39;00m \u001B[38;5;167;01mValueError\u001B[39;00m(\n\u001B[0;32m    609\u001B[0m             \u001B[38;5;124mf\u001B[39m\u001B[38;5;124m\"\u001B[39m\u001B[38;5;124mnum must be 1 <= num <= \u001B[39m\u001B[38;5;132;01m{\u001B[39;00mrows\u001B[38;5;241m*\u001B[39mcols\u001B[38;5;132;01m}\u001B[39;00m\u001B[38;5;124m, not \u001B[39m\u001B[38;5;132;01m{\u001B[39;00mnum\u001B[38;5;132;01m!r}\u001B[39;00m\u001B[38;5;124m\"\u001B[39m)\n\u001B[0;32m    610\u001B[0m     i \u001B[38;5;241m=\u001B[39m j \u001B[38;5;241m=\u001B[39m num\n\u001B[0;32m    611\u001B[0m \u001B[38;5;28;01mreturn\u001B[39;00m gs[i\u001B[38;5;241m-\u001B[39m\u001B[38;5;241m1\u001B[39m:j]\n",
      "\u001B[1;31mValueError\u001B[0m: num must be 1 <= num <= 8, not 9"
     ]
    }
   ],
   "source": [
    "import matplotlib\n",
    "\n",
    "matplotlib.use('TKAgg')\n",
    "from matplotlib import pylab as plt\n",
    "import nibabel as nib\n",
    "from nibabel import nifti1\n",
    "from nibabel.viewers import OrthoSlicer3D\n",
    "\n",
    "# example_filename = 'data/AMOS22/imagesTr/amos_0010.nii.gz'\n",
    "file2 = 'data/AMOS22/labelsTr/amos_0001.nii.gz'\n",
    "img = nib.load(file2)\n",
    "print('img:\\n', img)\n",
    "print('img.header:\\n', img.header['db_name'])  # Output header information\n",
    "\n",
    "# It is determined by the dimension of the file itself, which may be 3D or 4D\n",
    "width, height, queue = img.dataobj.shape\n",
    "print(width, height, queue)  # 175 132 88\n",
    "\n",
    "OrthoSlicer3D(img.dataobj).show()\n",
    "\n",
    "num = 1\n",
    "for i in range(0, queue, 11):\n",
    "    img_arr = img.dataobj[:, :, i]\n",
    "    plt.subplot(2, 4, num)\n",
    "    plt.imshow(img_arr)\n",
    "    num += 1\n",
    "plt.show()"
   ],
   "metadata": {
    "collapsed": false,
    "pycharm": {
     "name": "#%%\n"
    }
   }
  },
  {
   "cell_type": "code",
   "execution_count": null,
   "outputs": [],
   "source": [],
   "metadata": {
    "collapsed": false,
    "pycharm": {
     "name": "#%%\n"
    }
   }
  }
 ],
 "metadata": {
  "kernelspec": {
   "display_name": "Python 3",
   "language": "python",
   "name": "python3"
  },
  "language_info": {
   "codemirror_mode": {
    "name": "ipython",
    "version": 2
   },
   "file_extension": ".py",
   "mimetype": "text/x-python",
   "name": "python",
   "nbconvert_exporter": "python",
   "pygments_lexer": "ipython2",
   "version": "2.7.6"
  }
 },
 "nbformat": 4,
 "nbformat_minor": 0
}