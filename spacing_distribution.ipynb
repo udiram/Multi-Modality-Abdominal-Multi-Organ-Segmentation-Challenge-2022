{
 "cells": [
  {
   "cell_type": "code",
   "execution_count": 82,
   "outputs": [
    {
     "name": "stdout",
     "output_type": "stream",
     "text": [
      "C:\\Users\\sathy\\OneDrive\\Documents\\GitHub\\Multi-Modality-Abdominal-Multi-Organ-Segmentation-Challenge-2022\n"
     ]
    }
   ],
   "source": [
    "import matplotlib\n",
    "import seaborn as sns\n",
    "\n",
    "matplotlib.use('TKAgg')\n",
    "from matplotlib import pylab as plt\n",
    "import nibabel as nib\n",
    "from nibabel import nifti1\n",
    "from nibabel.viewers import OrthoSlicer3D\n",
    "import os\n",
    "print(os.getcwd())\n",
    "from tqdm import tqdm"
   ],
   "metadata": {
    "collapsed": false,
    "pycharm": {
     "name": "#%%\n"
    }
   }
  },
  {
   "cell_type": "code",
   "execution_count": 83,
   "outputs": [
    {
     "name": "stderr",
     "output_type": "stream",
     "text": [
      "100%|██████████| 240/240 [00:00<00:00, 1706.66it/s]\n"
     ]
    }
   ],
   "source": [
    "inputdir ='data/AMOS22/imagesTr/'\n",
    "x_list = []\n",
    "y_list = []\n",
    "z_list = []\n",
    "\n",
    "for file in tqdm(os.listdir(inputdir)):\n",
    "    file_path = os.path.join(inputdir, file)\n",
    "    img = nib.load(file_path)\n",
    "    x_list.append(img.header['dim'][1])\n",
    "    y_list.append(img.header['dim'][2])\n",
    "    z_list.append(img.header['dim'][3])"
   ],
   "metadata": {
    "collapsed": false,
    "pycharm": {
     "name": "#%%\n"
    }
   }
  },
  {
   "cell_type": "code",
   "execution_count": 85,
   "outputs": [],
   "source": [
    "plt.hist(x_list)\n",
    "plt.gca().set(title='Frequency Histogram', ylabel='Frequency')\n",
    "plt.show()"
   ],
   "metadata": {
    "collapsed": false,
    "pycharm": {
     "name": "#%%\n"
    }
   }
  },
  {
   "cell_type": "code",
   "execution_count": 84,
   "outputs": [
    {
     "name": "stderr",
     "output_type": "stream",
     "text": [
      "C:\\Users\\sathy\\OneDrive\\Documents\\GitHub\\Multi-Modality-Abdominal-Multi-Organ-Segmentation-Challenge-2022\\venv\\lib\\site-packages\\seaborn\\distributions.py:2619: FutureWarning: `distplot` is a deprecated function and will be removed in a future version. Please adapt your code to use either `displot` (a figure-level function with similar flexibility) or `histplot` (an axes-level function for histograms).\n",
      "  warnings.warn(msg, FutureWarning)\n",
      "C:\\Users\\sathy\\OneDrive\\Documents\\GitHub\\Multi-Modality-Abdominal-Multi-Organ-Segmentation-Challenge-2022\\venv\\lib\\site-packages\\seaborn\\distributions.py:2619: FutureWarning: `distplot` is a deprecated function and will be removed in a future version. Please adapt your code to use either `displot` (a figure-level function with similar flexibility) or `histplot` (an axes-level function for histograms).\n",
      "  warnings.warn(msg, FutureWarning)\n",
      "C:\\Users\\sathy\\OneDrive\\Documents\\GitHub\\Multi-Modality-Abdominal-Multi-Organ-Segmentation-Challenge-2022\\venv\\lib\\site-packages\\seaborn\\distributions.py:2619: FutureWarning: `distplot` is a deprecated function and will be removed in a future version. Please adapt your code to use either `displot` (a figure-level function with similar flexibility) or `histplot` (an axes-level function for histograms).\n",
      "  warnings.warn(msg, FutureWarning)\n"
     ]
    }
   ],
   "source": [
    "# Plot\n",
    "kwargs = dict(hist_kws={'alpha':.6}, kde_kws={'linewidth':2})\n",
    "\n",
    "sns.distplot(x_list, color=\"dodgerblue\", label=\"x distribution\", **kwargs)\n",
    "sns.distplot(y_list, color=\"orange\", label=\"y distribution\", **kwargs)\n",
    "sns.distplot(z_list, color=\"deeppink\", label=\"z distribution\", **kwargs)\n",
    "plt.legend()\n",
    "plt.show()"
   ],
   "metadata": {
    "collapsed": false,
    "pycharm": {
     "name": "#%%\n"
    }
   }
  },
  {
   "cell_type": "code",
   "execution_count": 86,
   "outputs": [
    {
     "data": {
      "text/plain": "DescribeResult(nobs=240, minmax=(192, 768), mean=560.7333333333333, variance=21396.614783821475, skewness=0.13709298990197646, kurtosis=-0.6407774334001504)"
     },
     "metadata": {},
     "output_type": "display_data"
    },
    {
     "data": {
      "text/plain": "DescribeResult(nobs=240, minmax=(60, 768), mean=533.9333333333333, variance=35261.51854951186, skewness=-0.5549300546635267, kurtosis=0.010630069519435903)"
     },
     "metadata": {},
     "output_type": "display_data"
    },
    {
     "data": {
      "text/plain": "DescribeResult(nobs=240, minmax=(64, 512), mean=148.01666666666668, variance=10907.363737796375, skewness=1.9999539670028865, kurtosis=3.544371398288943)"
     },
     "metadata": {},
     "output_type": "display_data"
    }
   ],
   "source": [
    "import scipy.stats as stats\n",
    "display(stats.describe(x_list))\n",
    "display(stats.describe(y_list))\n",
    "display(stats.describe(z_list))\n"
   ],
   "metadata": {
    "collapsed": false,
    "pycharm": {
     "name": "#%%\n"
    }
   }
  },
  {
   "cell_type": "code",
   "execution_count": 87,
   "outputs": [
    {
     "name": "stderr",
     "output_type": "stream",
     "text": [
      "100%|██████████| 240/240 [00:00<00:00, 1706.65it/s]\n"
     ]
    },
    {
     "data": {
      "text/plain": "['768x768',\n '512x512',\n '768x768',\n '512x512',\n '768x768',\n '512x512',\n '512x512',\n '512x512',\n '512x512',\n '768x768',\n '512x512',\n '512x512',\n '512x512',\n '512x512',\n '512x512',\n '512x512',\n '512x512',\n '512x512',\n '512x512',\n '512x512',\n '512x512',\n '512x512',\n '512x512',\n '512x512',\n '512x512',\n '768x768',\n '768x768',\n '768x768',\n '768x768',\n '768x768',\n '768x768',\n '768x768',\n '768x768',\n '768x768',\n '768x768',\n '512x512',\n '768x768',\n '512x512',\n '512x512',\n '512x512',\n '512x512',\n '512x512',\n '768x768',\n '512x512',\n '768x768',\n '768x768',\n '512x512',\n '768x768',\n '768x768',\n '512x512',\n '512x512',\n '512x512',\n '512x512',\n '512x512',\n '512x512',\n '512x512',\n '512x512',\n '512x512',\n '768x768',\n '768x768',\n '768x768',\n '512x512',\n '768x768',\n '768x768',\n '512x512',\n '512x512',\n '768x768',\n '768x768',\n '512x512',\n '512x512',\n '512x512',\n '512x512',\n '512x512',\n '768x768',\n '512x512',\n '512x512',\n '512x512',\n '768x768',\n '768x768',\n '512x512',\n '512x512',\n '512x512',\n '512x512',\n '512x512',\n '768x768',\n '768x768',\n '512x512',\n '512x512',\n '512x512',\n '512x512',\n '512x512',\n '512x512',\n '512x512',\n '512x512',\n '512x512',\n '512x512',\n '512x512',\n '512x512',\n '512x512',\n '768x768',\n '768x768',\n '768x768',\n '512x512',\n '512x512',\n '512x512',\n '768x768',\n '512x512',\n '512x512',\n '512x512',\n '768x768',\n '512x512',\n '512x512',\n '512x512',\n '512x512',\n '512x512',\n '512x512',\n '512x512',\n '512x512',\n '768x768',\n '512x512',\n '512x512',\n '512x512',\n '512x512',\n '512x512',\n '512x512',\n '512x512',\n '512x512',\n '512x512',\n '512x512',\n '512x512',\n '512x512',\n '512x512',\n '512x512',\n '512x512',\n '512x512',\n '512x512',\n '512x512',\n '512x512',\n '512x512',\n '512x512',\n '512x512',\n '512x512',\n '512x512',\n '512x512',\n '512x512',\n '512x512',\n '512x512',\n '512x512',\n '512x512',\n '512x512',\n '512x512',\n '512x512',\n '512x512',\n '512x512',\n '512x512',\n '512x512',\n '512x512',\n '512x512',\n '512x512',\n '512x512',\n '512x512',\n '512x512',\n '512x512',\n '512x512',\n '512x512',\n '512x512',\n '512x512',\n '512x512',\n '512x512',\n '768x768',\n '768x768',\n '768x768',\n '768x768',\n '768x768',\n '768x768',\n '768x768',\n '768x768',\n '768x768',\n '768x768',\n '768x768',\n '768x768',\n '768x768',\n '768x768',\n '768x768',\n '768x768',\n '768x768',\n '512x512',\n '768x768',\n '768x768',\n '768x768',\n '768x768',\n '768x768',\n '768x768',\n '768x768',\n '768x768',\n '768x768',\n '768x768',\n '768x768',\n '768x768',\n '768x768',\n '320x290',\n '260x80',\n '260x104',\n '260x112',\n '400x400',\n '400x120',\n '320x260',\n '320x290',\n '320x260',\n '320x260',\n '192x192',\n '320x290',\n '320x260',\n '576x468',\n '512x168',\n '288x232',\n '512x152',\n '512x168',\n '320x260',\n '320x258',\n '512x168',\n '320x60',\n '320x60',\n '320x60',\n '288x232',\n '320x260',\n '260x144',\n '320x260',\n '512x168',\n '320x60',\n '512x168',\n '320x260',\n '512x168',\n '576x468',\n '512x168',\n '320x260',\n '512x168',\n '320x60',\n '320x260',\n '320x260']"
     },
     "execution_count": 87,
     "metadata": {},
     "output_type": "execute_result"
    }
   ],
   "source": [
    "pair_list = []\n",
    "for file in tqdm(os.listdir(inputdir)):\n",
    "    file_path = os.path.join(inputdir, file)\n",
    "    img = nib.load(file_path)\n",
    "    x = img.header['dim'][1]\n",
    "    y = img.header['dim'][2]\n",
    "    pair = str(x) + 'x' + str(y)\n",
    "    pair_list.append(pair)\n",
    "    # pair_list.append(x + 'x' + y)\n",
    "pair_list"
   ],
   "metadata": {
    "collapsed": false,
    "pycharm": {
     "name": "#%%\n"
    }
   }
  },
  {
   "cell_type": "code",
   "execution_count": 88,
   "outputs": [
    {
     "name": "stdout",
     "output_type": "stream",
     "text": [
      "768x768\n",
      "512x512\n",
      "768x768\n",
      "512x512\n",
      "768x768\n",
      "512x512\n",
      "512x512\n",
      "512x512\n",
      "512x512\n",
      "768x768\n",
      "512x512\n",
      "512x512\n",
      "512x512\n",
      "512x512\n",
      "512x512\n",
      "512x512\n",
      "512x512\n",
      "512x512\n",
      "512x512\n",
      "512x512\n",
      "512x512\n",
      "512x512\n",
      "512x512\n",
      "512x512\n",
      "512x512\n",
      "768x768\n",
      "768x768\n",
      "768x768\n",
      "768x768\n",
      "768x768\n",
      "768x768\n",
      "768x768\n",
      "768x768\n",
      "768x768\n",
      "768x768\n",
      "512x512\n",
      "768x768\n",
      "512x512\n",
      "512x512\n",
      "512x512\n",
      "512x512\n",
      "512x512\n",
      "768x768\n",
      "512x512\n",
      "768x768\n",
      "768x768\n",
      "512x512\n",
      "768x768\n",
      "768x768\n",
      "512x512\n",
      "512x512\n",
      "512x512\n",
      "512x512\n",
      "512x512\n",
      "512x512\n",
      "512x512\n",
      "512x512\n",
      "512x512\n",
      "768x768\n",
      "768x768\n",
      "768x768\n",
      "512x512\n",
      "768x768\n",
      "768x768\n",
      "512x512\n",
      "512x512\n",
      "768x768\n",
      "768x768\n",
      "512x512\n",
      "512x512\n",
      "512x512\n",
      "512x512\n",
      "512x512\n",
      "768x768\n",
      "512x512\n",
      "512x512\n",
      "512x512\n",
      "768x768\n",
      "768x768\n",
      "512x512\n",
      "512x512\n",
      "512x512\n",
      "512x512\n",
      "512x512\n",
      "768x768\n",
      "768x768\n",
      "512x512\n",
      "512x512\n",
      "512x512\n",
      "512x512\n",
      "512x512\n",
      "512x512\n",
      "512x512\n",
      "512x512\n",
      "512x512\n",
      "512x512\n",
      "512x512\n",
      "512x512\n",
      "512x512\n",
      "768x768\n",
      "768x768\n",
      "768x768\n",
      "512x512\n",
      "512x512\n",
      "512x512\n",
      "768x768\n",
      "512x512\n",
      "512x512\n",
      "512x512\n",
      "768x768\n",
      "512x512\n",
      "512x512\n",
      "512x512\n",
      "512x512\n",
      "512x512\n",
      "512x512\n",
      "512x512\n",
      "512x512\n",
      "768x768\n",
      "512x512\n",
      "512x512\n",
      "512x512\n",
      "512x512\n",
      "512x512\n",
      "512x512\n",
      "512x512\n",
      "512x512\n",
      "512x512\n",
      "512x512\n",
      "512x512\n",
      "512x512\n",
      "512x512\n",
      "512x512\n",
      "512x512\n",
      "512x512\n",
      "512x512\n",
      "512x512\n",
      "512x512\n",
      "512x512\n",
      "512x512\n",
      "512x512\n",
      "512x512\n",
      "512x512\n",
      "512x512\n",
      "512x512\n",
      "512x512\n",
      "512x512\n",
      "512x512\n",
      "512x512\n",
      "512x512\n",
      "512x512\n",
      "512x512\n",
      "512x512\n",
      "512x512\n",
      "512x512\n",
      "512x512\n",
      "512x512\n",
      "512x512\n",
      "512x512\n",
      "512x512\n",
      "512x512\n",
      "512x512\n",
      "512x512\n",
      "512x512\n",
      "512x512\n",
      "512x512\n",
      "512x512\n",
      "512x512\n",
      "512x512\n",
      "768x768\n",
      "768x768\n",
      "768x768\n",
      "768x768\n",
      "768x768\n",
      "768x768\n",
      "768x768\n",
      "768x768\n",
      "768x768\n",
      "768x768\n",
      "768x768\n",
      "768x768\n",
      "768x768\n",
      "768x768\n",
      "768x768\n",
      "768x768\n",
      "768x768\n",
      "512x512\n",
      "768x768\n",
      "768x768\n",
      "768x768\n",
      "768x768\n",
      "768x768\n",
      "768x768\n",
      "768x768\n",
      "768x768\n",
      "768x768\n",
      "768x768\n",
      "768x768\n",
      "768x768\n",
      "768x768\n",
      "320x290\n",
      "260x80\n",
      "260x104\n",
      "260x112\n",
      "400x400\n",
      "400x120\n",
      "320x260\n",
      "320x290\n",
      "320x260\n",
      "320x260\n",
      "192x192\n",
      "320x290\n",
      "320x260\n",
      "576x468\n",
      "512x168\n",
      "288x232\n",
      "512x152\n",
      "512x168\n",
      "320x260\n",
      "320x258\n",
      "512x168\n",
      "320x60\n",
      "320x60\n",
      "320x60\n",
      "288x232\n",
      "320x260\n",
      "260x144\n",
      "320x260\n",
      "512x168\n",
      "320x60\n",
      "512x168\n",
      "320x260\n",
      "512x168\n",
      "576x468\n",
      "512x168\n",
      "320x260\n",
      "512x168\n",
      "320x60\n",
      "320x260\n",
      "320x260\n"
     ]
    }
   ],
   "source": [
    "for pair in pair_list:\n",
    "    print(pair)"
   ],
   "metadata": {
    "collapsed": false,
    "pycharm": {
     "name": "#%%\n"
    }
   }
  },
  {
   "cell_type": "code",
   "execution_count": 89,
   "outputs": [],
   "source": [
    "plt.hist(pair_list)\n",
    "plt.show()"
   ],
   "metadata": {
    "collapsed": false,
    "pycharm": {
     "name": "#%%\n"
    }
   }
  },
  {
   "cell_type": "code",
   "execution_count": 90,
   "outputs": [
    {
     "data": {
      "text/plain": "Counter({'768x768': 68,\n         '512x512': 132,\n         '320x290': 3,\n         '260x80': 1,\n         '260x104': 1,\n         '260x112': 1,\n         '400x400': 1,\n         '400x120': 1,\n         '320x260': 11,\n         '192x192': 1,\n         '576x468': 2,\n         '512x168': 8,\n         '288x232': 2,\n         '512x152': 1,\n         '320x258': 1,\n         '320x60': 5,\n         '260x144': 1})"
     },
     "execution_count": 90,
     "metadata": {},
     "output_type": "execute_result"
    }
   ],
   "source": [
    "from collections import Counter\n",
    "Counter(pair_list)\n",
    "# print(len(pair_list))"
   ],
   "metadata": {
    "collapsed": false,
    "pycharm": {
     "name": "#%%\n"
    }
   }
  },
  {
   "cell_type": "code",
   "execution_count": 91,
   "outputs": [
    {
     "data": {
      "text/plain": "['1.1875x1.1875',\n '1.1875x1.1875',\n '1.1875x1.1875',\n '1.1875x1.1875',\n '1.1875x1.1875',\n '1.1875x1.1875',\n '1.1875x1.1875',\n '1.1875x1.1875',\n '1.1875x1.1875',\n '1.1875x1.1875',\n '1.1875x1.1875',\n '1.1875x1.1875',\n '1.1875x1.1875',\n '1.1875x1.1875',\n '1.1875x1.1875',\n '1.1875x1.1875',\n '1.1875x1.1875',\n '1.1875x1.1875',\n '1.1875x1.1875',\n '1.1875x1.1875',\n '1.1875x1.1875',\n '1.1875x1.1875',\n '1.1875x1.1875',\n '1.1875x1.1875',\n '1.1875x1.1875',\n '1.1875x1.1875',\n '1.1875x1.1875',\n '1.1875x1.1875',\n '1.1875x1.1875',\n '1.1875x1.1875',\n '1.1875x1.1875',\n '1.1875x1.1875',\n '1.1875x1.1875',\n '1.1875x1.1875',\n '1.1875x1.1875',\n '1.1875x1.1875',\n '1.1875x1.1875',\n '1.1875x1.1875',\n '1.1875x1.1875',\n '1.1875x1.1875',\n '1.1875x1.1875',\n '1.1875x1.1875',\n '1.1875x1.1875',\n '1.1875x1.1875',\n '1.1875x1.1875',\n '1.1875x1.1875',\n '1.1875x1.1875',\n '1.1875x1.1875',\n '1.1875x1.1875',\n '1.1875x1.1875',\n '1.1875x1.1875',\n '1.1875x1.1875',\n '1.1875x1.1875',\n '1.1875x1.1875',\n '1.1875x1.1875',\n '1.1875x1.1875',\n '1.1875x1.1875',\n '1.1875x1.1875',\n '1.1875x1.1875',\n '1.1875x1.1875',\n '1.1875x1.1875',\n '1.1875x1.1875',\n '1.1875x1.1875',\n '1.1875x1.1875',\n '1.1875x1.1875',\n '1.1875x1.1875',\n '1.1875x1.1875',\n '1.1875x1.1875',\n '1.1875x1.1875',\n '1.1875x1.1875',\n '1.1875x1.1875',\n '1.1875x1.1875',\n '1.1875x1.1875',\n '1.1875x1.1875',\n '1.1875x1.1875',\n '1.1875x1.1875',\n '1.1875x1.1875',\n '1.1875x1.1875',\n '1.1875x1.1875',\n '1.1875x1.1875',\n '1.1875x1.1875',\n '1.1875x1.1875',\n '1.1875x1.1875',\n '1.1875x1.1875',\n '1.1875x1.1875',\n '1.1875x1.1875',\n '1.1875x1.1875',\n '1.1875x1.1875',\n '1.1875x1.1875',\n '1.1875x1.1875',\n '1.1875x1.1875',\n '1.1875x1.1875',\n '1.1875x1.1875',\n '1.1875x1.1875',\n '1.1875x1.1875',\n '1.1875x1.1875',\n '1.1875x1.1875',\n '1.1875x1.1875',\n '1.1875x1.1875',\n '1.1875x1.1875',\n '1.1875x1.1875',\n '1.1875x1.1875',\n '1.1875x1.1875',\n '1.1875x1.1875',\n '1.1875x1.1875',\n '1.1875x1.1875',\n '1.1875x1.1875',\n '1.1875x1.1875',\n '1.1875x1.1875',\n '1.1875x1.1875',\n '1.1875x1.1875',\n '1.1875x1.1875',\n '1.1875x1.1875',\n '1.1875x1.1875',\n '1.1875x1.1875',\n '1.1875x1.1875',\n '1.1875x1.1875',\n '1.1875x1.1875',\n '1.1875x1.1875',\n '1.1875x1.1875',\n '1.1875x1.1875',\n '1.1875x1.1875',\n '1.1875x1.1875',\n '1.1875x1.1875',\n '1.1875x1.1875',\n '1.1875x1.1875',\n '1.1875x1.1875',\n '1.1875x1.1875',\n '1.1875x1.1875',\n '1.1875x1.1875',\n '1.1875x1.1875',\n '1.1875x1.1875']"
     },
     "execution_count": 91,
     "metadata": {},
     "output_type": "execute_result"
    }
   ],
   "source": [
    "selective = []\n",
    "for pair in pair_list:\n",
    "    if pair == '512x512':\n",
    "        pixdim1 = img.header['pixdim'][1]\n",
    "        pixdim2 = img.header['pixdim'][2]\n",
    "        pix_pair = str(pixdim1) + 'x' + str(pixdim2)\n",
    "        selective.append(pix_pair)\n",
    "selective"
   ],
   "metadata": {
    "collapsed": false,
    "pycharm": {
     "name": "#%%\n"
    }
   }
  },
  {
   "cell_type": "code",
   "execution_count": 91,
   "outputs": [],
   "source": [],
   "metadata": {
    "collapsed": false,
    "pycharm": {
     "name": "#%%\n"
    }
   }
  }
 ],
 "metadata": {
  "kernelspec": {
   "display_name": "Python 3",
   "language": "python",
   "name": "python3"
  },
  "language_info": {
   "codemirror_mode": {
    "name": "ipython",
    "version": 2
   },
   "file_extension": ".py",
   "mimetype": "text/x-python",
   "name": "python",
   "nbconvert_exporter": "python",
   "pygments_lexer": "ipython2",
   "version": "2.7.6"
  }
 },
 "nbformat": 4,
 "nbformat_minor": 0
}