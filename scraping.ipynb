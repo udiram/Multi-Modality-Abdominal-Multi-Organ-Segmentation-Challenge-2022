{
 "cells": [
  {
   "cell_type": "code",
   "execution_count": 25,
   "outputs": [],
   "source": [
    "from __future__ import print_function\n",
    "import requests\n",
    "import re\n",
    "import time\n",
    "import random\n",
    "# import config"
   ],
   "metadata": {
    "collapsed": false,
    "pycharm": {
     "name": "#%%\n"
    }
   }
  },
  {
   "cell_type": "code",
   "execution_count": 34,
   "outputs": [],
   "source": [
    "class ConfigClass:  # minimal config incase you don't have the config.py\n",
    "        MAX_DEPTH = 10  # dive no deeper than this for each root URL\n",
    "        MIN_DEPTH = 3   # dive at least this deep into each root URL\n",
    "        MAX_WAIT = 2   # maximum amount of time to wait between HTTP requests\n",
    "        MIN_WAIT = 1   # minimum amount of time allowed between HTTP requests\n",
    "        DEBUG = False    # set to True to enable useful console output\n",
    "\n",
    "        # use this single item list to test how a site responds to this crawler\n",
    "        # be sure to comment out the list below it.\n",
    "        #ROOT_URLS = [\"https://digg.com/\"]\n",
    "        ROOT_URLS = [\n",
    "            \"https://sites.google.com/view/udbhav-ram\"\n",
    "        ]\n",
    "\n",
    "        # items can be a URL \"https://t.co\" or simple string to check for \"amazon\"\n",
    "        blacklist = [\n",
    "            'facebook.com',\n",
    "            'pinterest.com'\n",
    "        ]\n",
    "\n",
    "        # must use a valid user agent or sites will hate you\n",
    "        USER_AGENT = 'Mozilla/5.0 (Macintosh; Intel Mac OS X 10_12_3) ' \\\n",
    "            'AppleWebKit/537.36 (KHTML, like Gecko) Chrome/56.0.2924.87 Safari/537.36'\n",
    "config = ConfigClass"
   ],
   "metadata": {
    "collapsed": false,
    "pycharm": {
     "name": "#%%\n"
    }
   }
  },
  {
   "cell_type": "code",
   "execution_count": 35,
   "outputs": [],
   "source": [
    "class Colors:\n",
    "    RED = '\\033[91m'\n",
    "    YELLOW = '\\033[93m'\n",
    "    PURPLE = '\\033[95m'\n",
    "    NONE = '\\033[0m'"
   ],
   "metadata": {
    "collapsed": false,
    "pycharm": {
     "name": "#%%\n"
    }
   }
  },
  {
   "cell_type": "code",
   "execution_count": 36,
   "outputs": [],
   "source": [
    "def debug_print(message, color=Colors.NONE):\n",
    "    \"\"\" A method which prints if DEBUG is set \"\"\"\n",
    "    if config.DEBUG:\n",
    "        print(color + message + Colors.NONE)"
   ],
   "metadata": {
    "collapsed": false,
    "pycharm": {
     "name": "#%%\n"
    }
   }
  },
  {
   "cell_type": "code",
   "execution_count": 37,
   "outputs": [],
   "source": [
    "def hr_bytes(bytes_, suffix='B', si=False):\n",
    "    \"\"\" A method providing a more legible byte format \"\"\"\n",
    "\n",
    "    bits = 1024.0 if si else 1000.0\n",
    "\n",
    "    for unit in ['', 'K', 'M', 'G', 'T', 'P', 'E', 'Z']:\n",
    "        if abs(bytes_) < bits:\n",
    "            return \"{:.1f}{}{}\".format(bytes_, unit, suffix)\n",
    "        bytes_ /= bits\n",
    "    return \"{:.1f}{}{}\".format(bytes_, 'Y', suffix)"
   ],
   "metadata": {
    "collapsed": false,
    "pycharm": {
     "name": "#%%\n"
    }
   }
  },
  {
   "cell_type": "code",
   "execution_count": 38,
   "outputs": [],
   "source": [
    "def do_request(url):\n",
    "    \"\"\" A method which loads a page \"\"\"\n",
    "\n",
    "    global data_meter\n",
    "    global good_requests\n",
    "    global bad_requests\n",
    "\n",
    "    debug_print(\"  Requesting page...\".format(url))\n",
    "\n",
    "    headers = {'user-agent': config.USER_AGENT}\n",
    "\n",
    "    try:\n",
    "        r = requests.get(url, headers=headers, timeout=5)\n",
    "    except:\n",
    "        # Prevent 100% CPU loop in a net down situation\n",
    "        time.sleep(30)\n",
    "        return False\n",
    "\n",
    "    page_size = len(r.content)\n",
    "    data_meter += page_size\n",
    "\n",
    "    debug_print(\"  Page size: {}\".format(hr_bytes(page_size)))\n",
    "    debug_print(\"  Data meter: {}\".format(hr_bytes(data_meter)))\n",
    "\n",
    "    status = r.status_code\n",
    "\n",
    "    if (status != 200):\n",
    "        bad_requests += 1\n",
    "        debug_print(\"  Response status: {}\".format(r.status_code), Colors.RED)\n",
    "        if (status == 429):\n",
    "            debug_print(\n",
    "                \"  We're making requests too frequently... sleeping longer...\")\n",
    "            config.MIN_WAIT += 10\n",
    "            config.MAX_WAIT += 10\n",
    "    else:\n",
    "        good_requests += 1\n",
    "\n",
    "    debug_print(\"  Good requests: {}\".format(good_requests))\n",
    "    debug_print(\"  Bad reqeusts: {}\".format(bad_requests))\n",
    "\n",
    "    return r"
   ],
   "metadata": {
    "collapsed": false,
    "pycharm": {
     "name": "#%%\n"
    }
   }
  },
  {
   "cell_type": "code",
   "execution_count": 39,
   "outputs": [],
   "source": [
    "def get_links(page):\n",
    "    \"\"\" A method which returns all links from page, less blacklisted links \"\"\"\n",
    "\n",
    "    pattern = r\"(?:href\\=\\\")(https?:\\/\\/[^\\\"]+)(?:\\\")\"\n",
    "    links = re.findall(pattern, str(page.content))\n",
    "    valid_links = [link for link in links if not any(\n",
    "        b in link for b in config.blacklist)]\n",
    "    return valid_links"
   ],
   "metadata": {
    "collapsed": false,
    "pycharm": {
     "name": "#%%\n"
    }
   }
  },
  {
   "cell_type": "code",
   "execution_count": 40,
   "outputs": [],
   "source": [
    "def recursive_browse(url, depth):\n",
    "    \"\"\" A method which recursively browses URLs, using given depth \"\"\"\n",
    "    # Base: load current page and return\n",
    "    # Recursively: load page, pick random link and browse with decremented depth\n",
    "\n",
    "    debug_print(\"~~~~~~~~~~~~~~~~~~~~~~~~~~~~~~~~~~~~~~~~~~~~~~\")\n",
    "    debug_print(\n",
    "        \"Recursively browsing [{}] ~~~ [depth = {}]\".format(url, depth))\n",
    "\n",
    "    if not depth:  # base case: depth of zero, load page\n",
    "\n",
    "        do_request(url)\n",
    "        return\n",
    "\n",
    "    else:  # recursive case: load page, browse random link, decrement depth\n",
    "\n",
    "        page = do_request(url)  # load current page\n",
    "\n",
    "        # give up if error loading page\n",
    "        if not page:\n",
    "            debug_print(\n",
    "                \"  Stopping and blacklisting: page error\".format(url), Colors.YELLOW)\n",
    "            config.blacklist.append(url)\n",
    "            return\n",
    "\n",
    "        # scrape page for links not in blacklist\n",
    "        debug_print(\"  Scraping page for links\".format(url))\n",
    "        valid_links = get_links(page)\n",
    "        debug_print(\"  Found {} valid links\".format(len(valid_links)))\n",
    "\n",
    "        # give up if no links to browse\n",
    "        if not valid_links:\n",
    "            debug_print(\"  Stopping and blacklisting: no links\".format(\n",
    "                url), Colors.YELLOW)\n",
    "            config.blacklist.append(url)\n",
    "            return\n",
    "\n",
    "        # sleep and then recursively browse\n",
    "        sleep_time = random.randrange(config.MIN_WAIT, config.MAX_WAIT)\n",
    "        debug_print(\"  Pausing for {} seconds...\".format(sleep_time))\n",
    "        time.sleep(sleep_time)\n",
    "\n",
    "        recursive_browse(random.choice(valid_links), depth - 1)"
   ],
   "metadata": {
    "collapsed": false,
    "pycharm": {
     "name": "#%%\n"
    }
   }
  },
  {
   "cell_type": "code",
   "execution_count": 41,
   "outputs": [
    {
     "name": "stdout",
     "output_type": "stream",
     "text": [
      "~~~~~~~~~~~~~~~~~~~~~~~~~~~~~~~~~~~~~~~~~~~~~~\n",
      "Traffic generator started\n",
      "https://github.com/ecapuano/web-traffic-generator\n",
      "Diving between 3 and 10 links deep into 1 root URLs,\n",
      "Waiting between 1 and 2 seconds between requests. \n",
      "This script will run indefinitely. Ctrl+C to stop.\n"
     ]
    },
    {
     "ename": "KeyboardInterrupt",
     "evalue": "",
     "output_type": "error",
     "traceback": [
      "\u001B[0;31m---------------------------------------------------------------------------\u001B[0m",
      "\u001B[0;31mKeyboardInterrupt\u001B[0m                         Traceback (most recent call last)",
      "\u001B[0;32m<ipython-input-41-6ae2a6b807aa>\u001B[0m in \u001B[0;36m<module>\u001B[0;34m\u001B[0m\n\u001B[1;32m     23\u001B[0m         \u001B[0mdepth\u001B[0m \u001B[0;34m=\u001B[0m \u001B[0mrandom\u001B[0m\u001B[0;34m.\u001B[0m\u001B[0mchoice\u001B[0m\u001B[0;34m(\u001B[0m\u001B[0mrange\u001B[0m\u001B[0;34m(\u001B[0m\u001B[0mconfig\u001B[0m\u001B[0;34m.\u001B[0m\u001B[0mMIN_DEPTH\u001B[0m\u001B[0;34m,\u001B[0m \u001B[0mconfig\u001B[0m\u001B[0;34m.\u001B[0m\u001B[0mMAX_DEPTH\u001B[0m\u001B[0;34m)\u001B[0m\u001B[0;34m)\u001B[0m\u001B[0;34m\u001B[0m\u001B[0;34m\u001B[0m\u001B[0m\n\u001B[1;32m     24\u001B[0m \u001B[0;34m\u001B[0m\u001B[0m\n\u001B[0;32m---> 25\u001B[0;31m         \u001B[0mrecursive_browse\u001B[0m\u001B[0;34m(\u001B[0m\u001B[0mrandom_url\u001B[0m\u001B[0;34m,\u001B[0m \u001B[0mdepth\u001B[0m\u001B[0;34m)\u001B[0m\u001B[0;34m\u001B[0m\u001B[0;34m\u001B[0m\u001B[0m\n\u001B[0m",
      "\u001B[0;32m<ipython-input-40-62466c62e3dd>\u001B[0m in \u001B[0;36mrecursive_browse\u001B[0;34m(url, depth)\u001B[0m\n\u001B[1;32m     39\u001B[0m         \u001B[0msleep_time\u001B[0m \u001B[0;34m=\u001B[0m \u001B[0mrandom\u001B[0m\u001B[0;34m.\u001B[0m\u001B[0mrandrange\u001B[0m\u001B[0;34m(\u001B[0m\u001B[0mconfig\u001B[0m\u001B[0;34m.\u001B[0m\u001B[0mMIN_WAIT\u001B[0m\u001B[0;34m,\u001B[0m \u001B[0mconfig\u001B[0m\u001B[0;34m.\u001B[0m\u001B[0mMAX_WAIT\u001B[0m\u001B[0;34m)\u001B[0m\u001B[0;34m\u001B[0m\u001B[0;34m\u001B[0m\u001B[0m\n\u001B[1;32m     40\u001B[0m         \u001B[0mdebug_print\u001B[0m\u001B[0;34m(\u001B[0m\u001B[0;34m\"  Pausing for {} seconds...\"\u001B[0m\u001B[0;34m.\u001B[0m\u001B[0mformat\u001B[0m\u001B[0;34m(\u001B[0m\u001B[0msleep_time\u001B[0m\u001B[0;34m)\u001B[0m\u001B[0;34m)\u001B[0m\u001B[0;34m\u001B[0m\u001B[0;34m\u001B[0m\u001B[0m\n\u001B[0;32m---> 41\u001B[0;31m         \u001B[0mtime\u001B[0m\u001B[0;34m.\u001B[0m\u001B[0msleep\u001B[0m\u001B[0;34m(\u001B[0m\u001B[0msleep_time\u001B[0m\u001B[0;34m)\u001B[0m\u001B[0;34m\u001B[0m\u001B[0;34m\u001B[0m\u001B[0m\n\u001B[0m\u001B[1;32m     42\u001B[0m \u001B[0;34m\u001B[0m\u001B[0m\n\u001B[1;32m     43\u001B[0m         \u001B[0mrecursive_browse\u001B[0m\u001B[0;34m(\u001B[0m\u001B[0mrandom\u001B[0m\u001B[0;34m.\u001B[0m\u001B[0mchoice\u001B[0m\u001B[0;34m(\u001B[0m\u001B[0mvalid_links\u001B[0m\u001B[0;34m)\u001B[0m\u001B[0;34m,\u001B[0m \u001B[0mdepth\u001B[0m \u001B[0;34m-\u001B[0m \u001B[0;36m1\u001B[0m\u001B[0;34m)\u001B[0m\u001B[0;34m\u001B[0m\u001B[0;34m\u001B[0m\u001B[0m\n",
      "\u001B[0;31mKeyboardInterrupt\u001B[0m: "
     ]
    }
   ],
   "source": [
    "if __name__ == \"__main__\":\n",
    "\n",
    "    # Initialize global variables\n",
    "    data_meter = 0\n",
    "    good_requests = 0\n",
    "    bad_requests = 0\n",
    "\n",
    "    print(\"~~~~~~~~~~~~~~~~~~~~~~~~~~~~~~~~~~~~~~~~~~~~~~\")\n",
    "    print(\"Traffic generator started\")\n",
    "    print(\"https://github.com/ecapuano/web-traffic-generator\")\n",
    "    print(\"Diving between 3 and {} links deep into {} root URLs,\".format(\n",
    "        config.MAX_DEPTH, len(config.ROOT_URLS)))\n",
    "    print(\"Waiting between {} and {} seconds between requests. \".format(\n",
    "        config.MIN_WAIT, config.MAX_WAIT))\n",
    "    print(\"This script will run indefinitely. Ctrl+C to stop.\")\n",
    "\n",
    "    while True:\n",
    "\n",
    "        debug_print(\"Randomly selecting one of {} Root URLs\".format(\n",
    "            len(config.ROOT_URLS)), Colors.PURPLE)\n",
    "\n",
    "        random_url = random.choice(config.ROOT_URLS)\n",
    "        depth = random.choice(range(config.MIN_DEPTH, config.MAX_DEPTH))\n",
    "\n",
    "        recursive_browse(random_url, depth)"
   ],
   "metadata": {
    "collapsed": false,
    "pycharm": {
     "name": "#%%\n"
    }
   }
  },
  {
   "cell_type": "code",
   "execution_count": null,
   "outputs": [],
   "source": [],
   "metadata": {
    "collapsed": false,
    "pycharm": {
     "name": "#%%\n"
    }
   }
  }
 ],
 "metadata": {
  "kernelspec": {
   "display_name": "Python 3",
   "language": "python",
   "name": "python3"
  },
  "language_info": {
   "codemirror_mode": {
    "name": "ipython",
    "version": 2
   },
   "file_extension": ".py",
   "mimetype": "text/x-python",
   "name": "python",
   "nbconvert_exporter": "python",
   "pygments_lexer": "ipython2",
   "version": "2.7.6"
  }
 },
 "nbformat": 4,
 "nbformat_minor": 0
}