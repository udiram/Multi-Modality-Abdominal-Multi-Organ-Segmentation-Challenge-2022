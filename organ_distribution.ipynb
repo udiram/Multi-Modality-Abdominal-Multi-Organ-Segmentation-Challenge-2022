{
 "cells": [
  {
   "cell_type": "code",
   "execution_count": 19,
   "outputs": [],
   "source": [
    "import matplotlib\n",
    "import numpy as np\n",
    "\n",
    "matplotlib.use('TKAgg')\n",
    "import numpy as np\n",
    "import nibabel as nib\n",
    "from tqdm import tqdm\n",
    "import os"
   ],
   "metadata": {
    "collapsed": false,
    "pycharm": {
     "name": "#%%\n"
    }
   }
  },
  {
   "cell_type": "code",
   "execution_count": 20,
   "outputs": [],
   "source": [
    "example_filename = 'data/AMOS22/labelsTr/amos_0021.nii.gz'\n",
    "img = nib.load(example_filename)\n",
    "inputdir = 'data/AMOS22/labelsTr/'"
   ],
   "metadata": {
    "collapsed": false,
    "pycharm": {
     "name": "#%%\n"
    }
   }
  },
  {
   "cell_type": "code",
   "execution_count": 38,
   "outputs": [
    {
     "name": "stdout",
     "output_type": "stream",
     "text": [
      "(512, 512, 86)\n",
      "15\n",
      "0\n"
     ]
    },
    {
     "name": "stderr",
     "output_type": "stream",
     "text": [
      "C:\\Users\\sathy\\AppData\\Local\\Temp\\ipykernel_26628\\2335310746.py:12: DeprecationWarning: Calling np.sum(generator) is deprecated, and in the future will give a different result. Use np.sum(np.fromiter(generator)) or the python sum builtin instead.\n",
      "  print(volume_voxels*np.sum(mask_np == i for i in range(15)))\n"
     ]
    },
    {
     "name": "stdout",
     "output_type": "stream",
     "text": [
      "[[[0.00305762 0.00305762 0.00305762 ... 0.00305762 0.00305762 0.00305762]\n",
      "  [0.00305762 0.00305762 0.00305762 ... 0.00305762 0.00305762 0.00305762]\n",
      "  [0.00305762 0.00305762 0.00305762 ... 0.00305762 0.00305762 0.00305762]\n",
      "  ...\n",
      "  [0.00305762 0.00305762 0.00305762 ... 0.00305762 0.00305762 0.00305762]\n",
      "  [0.00305762 0.00305762 0.00305762 ... 0.00305762 0.00305762 0.00305762]\n",
      "  [0.00305762 0.00305762 0.00305762 ... 0.00305762 0.00305762 0.00305762]]\n",
      "\n",
      " [[0.00305762 0.00305762 0.00305762 ... 0.00305762 0.00305762 0.00305762]\n",
      "  [0.00305762 0.00305762 0.00305762 ... 0.00305762 0.00305762 0.00305762]\n",
      "  [0.00305762 0.00305762 0.00305762 ... 0.00305762 0.00305762 0.00305762]\n",
      "  ...\n",
      "  [0.00305762 0.00305762 0.00305762 ... 0.00305762 0.00305762 0.00305762]\n",
      "  [0.00305762 0.00305762 0.00305762 ... 0.00305762 0.00305762 0.00305762]\n",
      "  [0.00305762 0.00305762 0.00305762 ... 0.00305762 0.00305762 0.00305762]]\n",
      "\n",
      " [[0.00305762 0.00305762 0.00305762 ... 0.00305762 0.00305762 0.00305762]\n",
      "  [0.00305762 0.00305762 0.00305762 ... 0.00305762 0.00305762 0.00305762]\n",
      "  [0.00305762 0.00305762 0.00305762 ... 0.00305762 0.00305762 0.00305762]\n",
      "  ...\n",
      "  [0.00305762 0.00305762 0.00305762 ... 0.00305762 0.00305762 0.00305762]\n",
      "  [0.00305762 0.00305762 0.00305762 ... 0.00305762 0.00305762 0.00305762]\n",
      "  [0.00305762 0.00305762 0.00305762 ... 0.00305762 0.00305762 0.00305762]]\n",
      "\n",
      " ...\n",
      "\n",
      " [[0.00305762 0.00305762 0.00305762 ... 0.00305762 0.00305762 0.00305762]\n",
      "  [0.00305762 0.00305762 0.00305762 ... 0.00305762 0.00305762 0.00305762]\n",
      "  [0.00305762 0.00305762 0.00305762 ... 0.00305762 0.00305762 0.00305762]\n",
      "  ...\n",
      "  [0.00305762 0.00305762 0.00305762 ... 0.00305762 0.00305762 0.00305762]\n",
      "  [0.00305762 0.00305762 0.00305762 ... 0.00305762 0.00305762 0.00305762]\n",
      "  [0.00305762 0.00305762 0.00305762 ... 0.00305762 0.00305762 0.00305762]]\n",
      "\n",
      " [[0.00305762 0.00305762 0.00305762 ... 0.00305762 0.00305762 0.00305762]\n",
      "  [0.00305762 0.00305762 0.00305762 ... 0.00305762 0.00305762 0.00305762]\n",
      "  [0.00305762 0.00305762 0.00305762 ... 0.00305762 0.00305762 0.00305762]\n",
      "  ...\n",
      "  [0.00305762 0.00305762 0.00305762 ... 0.00305762 0.00305762 0.00305762]\n",
      "  [0.00305762 0.00305762 0.00305762 ... 0.00305762 0.00305762 0.00305762]\n",
      "  [0.00305762 0.00305762 0.00305762 ... 0.00305762 0.00305762 0.00305762]]\n",
      "\n",
      " [[0.00305762 0.00305762 0.00305762 ... 0.00305762 0.00305762 0.00305762]\n",
      "  [0.00305762 0.00305762 0.00305762 ... 0.00305762 0.00305762 0.00305762]\n",
      "  [0.00305762 0.00305762 0.00305762 ... 0.00305762 0.00305762 0.00305762]\n",
      "  ...\n",
      "  [0.00305762 0.00305762 0.00305762 ... 0.00305762 0.00305762 0.00305762]\n",
      "  [0.00305762 0.00305762 0.00305762 ... 0.00305762 0.00305762 0.00305762]\n",
      "  [0.00305762 0.00305762 0.00305762 ... 0.00305762 0.00305762 0.00305762]]]\n"
     ]
    }
   ],
   "source": [
    "# for file in tqdm(os.listdir(inputdir)):\n",
    "file_path = os.path.join(inputdir, file)\n",
    "img = nib.load(file_path)\n",
    "x_pix = img.header['pixdim'][1]\n",
    "y_pix = img.header['pixdim'][2]\n",
    "z_pix = img.header['pixdim'][3]\n",
    "volume_voxels = (x_pix * y_pix * z_pix)/1000\n",
    "mask_np = np.array(img.dataobj)\n",
    "print(mask_np.shape)\n",
    "print(np.max(mask_np))\n",
    "print(np.min(mask_np))\n",
    "print(volume_voxels*np.sum(mask_np == i for i in range(15)))\n",
    "#     for i in range(np.max(mask_np)):\n",
    "#         final_volume = volume_voxels * mask_np\n",
    "# print(final_volume)"
   ],
   "metadata": {
    "collapsed": false,
    "pycharm": {
     "name": "#%%\n"
    }
   }
  },
  {
   "cell_type": "code",
   "execution_count": 41,
   "outputs": [
    {
     "name": "stderr",
     "output_type": "stream",
     "text": [
      "100%|██████████| 240/240 [04:27<00:00,  1.12s/it]\n"
     ]
    }
   ],
   "source": [
    "organs_class = []\n",
    "for file in tqdm(os.listdir(inputdir)):\n",
    "    file_path = os.path.join(inputdir, file)\n",
    "    img = nib.load(file_path)\n",
    "    x_pix = img.header['pixdim'][1]\n",
    "    y_pix = img.header['pixdim'][2]\n",
    "    z_pix = img.header['pixdim'][3]\n",
    "    volume_voxels = (x_pix * y_pix * z_pix)/1000\n",
    "    mask_np = np.array(img.dataobj)\n",
    "    for i in range(np.max(mask_np)):\n",
    "        final_volume = volume_voxels * np.sum(mask_np == i)\n",
    "        # print(final_volume)\n",
    "        if final_volume > 0:\n",
    "            organs_class.append(i)"
   ],
   "metadata": {
    "collapsed": false,
    "pycharm": {
     "name": "#%%\n"
    }
   }
  },
  {
   "cell_type": "code",
   "execution_count": 42,
   "outputs": [
    {
     "data": {
      "text/plain": "[0,\n 1,\n 2,\n 3,\n 4,\n 5,\n 6,\n 7,\n 8,\n 9,\n 10,\n 11,\n 12,\n 13,\n 14,\n 0,\n 1,\n 2,\n 3,\n 4,\n 5,\n 6,\n 7,\n 8,\n 9,\n 10,\n 11,\n 12,\n 13,\n 14,\n 0,\n 1,\n 2,\n 3,\n 4,\n 5,\n 6,\n 7,\n 8,\n 9,\n 10,\n 11,\n 12,\n 13,\n 14,\n 0,\n 1,\n 2,\n 3,\n 4,\n 5,\n 6,\n 7,\n 8,\n 9,\n 10,\n 11,\n 12,\n 13,\n 14,\n 0,\n 1,\n 2,\n 3,\n 4,\n 5,\n 6,\n 7,\n 8,\n 9,\n 10,\n 11,\n 12,\n 13,\n 14,\n 0,\n 1,\n 2,\n 3,\n 4,\n 5,\n 6,\n 7,\n 8,\n 9,\n 10,\n 11,\n 12,\n 0,\n 1,\n 2,\n 3,\n 4,\n 5,\n 6,\n 8,\n 9,\n 10,\n 11,\n 12,\n 13,\n 14,\n 0,\n 1,\n 2,\n 3,\n 4,\n 5,\n 6,\n 7,\n 8,\n 9,\n 10,\n 11,\n 12,\n 13,\n 14,\n 0,\n 1,\n 2,\n 3,\n 4,\n 5,\n 6,\n 7,\n 8,\n 9,\n 10,\n 11,\n 12,\n 13,\n 14,\n 0,\n 1,\n 2,\n 3,\n 4,\n 5,\n 6,\n 7,\n 8,\n 9,\n 10,\n 11,\n 12,\n 13,\n 14,\n 0,\n 1,\n 2,\n 3,\n 4,\n 5,\n 6,\n 7,\n 8,\n 9,\n 10,\n 11,\n 12,\n 13,\n 14,\n 0,\n 1,\n 2,\n 3,\n 4,\n 5,\n 6,\n 7,\n 8,\n 9,\n 10,\n 11,\n 12,\n 13,\n 14,\n 0,\n 1,\n 2,\n 3,\n 4,\n 5,\n 6,\n 7,\n 8,\n 9,\n 10,\n 11,\n 12,\n 13,\n 14,\n 0,\n 1,\n 2,\n 3,\n 5,\n 6,\n 7,\n 8,\n 9,\n 10,\n 11,\n 12,\n 13,\n 14,\n 0,\n 1,\n 2,\n 3,\n 4,\n 5,\n 6,\n 7,\n 8,\n 9,\n 10,\n 11,\n 12,\n 13,\n 14,\n 0,\n 1,\n 2,\n 3,\n 4,\n 5,\n 6,\n 7,\n 8,\n 9,\n 10,\n 11,\n 12,\n 13,\n 14,\n 0,\n 1,\n 2,\n 3,\n 4,\n 5,\n 6,\n 7,\n 8,\n 9,\n 10,\n 11,\n 12,\n 13,\n 14,\n 0,\n 1,\n 2,\n 3,\n 4,\n 5,\n 6,\n 7,\n 8,\n 9,\n 10,\n 11,\n 12,\n 13,\n 14,\n 0,\n 1,\n 2,\n 3,\n 4,\n 5,\n 6,\n 7,\n 8,\n 9,\n 10,\n 11,\n 12,\n 13,\n 14,\n 0,\n 1,\n 2,\n 3,\n 4,\n 5,\n 6,\n 7,\n 8,\n 9,\n 10,\n 11,\n 12,\n 13,\n 14,\n 0,\n 1,\n 2,\n 3,\n 4,\n 5,\n 6,\n 7,\n 8,\n 9,\n 10,\n 11,\n 12,\n 13,\n 14,\n 0,\n 1,\n 2,\n 3,\n 4,\n 5,\n 6,\n 7,\n 8,\n 9,\n 10,\n 11,\n 12,\n 13,\n 14,\n 0,\n 1,\n 2,\n 3,\n 4,\n 5,\n 6,\n 7,\n 8,\n 9,\n 10,\n 11,\n 12,\n 13,\n 14,\n 0,\n 1,\n 2,\n 3,\n 4,\n 5,\n 6,\n 7,\n 8,\n 9,\n 10,\n 11,\n 12,\n 13,\n 14,\n 0,\n 1,\n 2,\n 3,\n 4,\n 5,\n 6,\n 7,\n 8,\n 9,\n 10,\n 11,\n 12,\n 13,\n 14,\n 0,\n 1,\n 2,\n 3,\n 4,\n 5,\n 6,\n 7,\n 8,\n 9,\n 10,\n 11,\n 12,\n 0,\n 1,\n 2,\n 3,\n 4,\n 5,\n 6,\n 7,\n 8,\n 9,\n 10,\n 11,\n 12,\n 13,\n 14,\n 0,\n 1,\n 2,\n 3,\n 4,\n 5,\n 6,\n 7,\n 8,\n 9,\n 10,\n 11,\n 12,\n 13,\n 14,\n 0,\n 1,\n 2,\n 3,\n 4,\n 5,\n 6,\n 7,\n 8,\n 9,\n 10,\n 11,\n 12,\n 13,\n 14,\n 0,\n 1,\n 2,\n 3,\n 4,\n 5,\n 6,\n 7,\n 8,\n 9,\n 10,\n 11,\n 12,\n 13,\n 14,\n 0,\n 1,\n 2,\n 3,\n 4,\n 5,\n 6,\n 7,\n 8,\n 9,\n 10,\n 11,\n 12,\n 13,\n 14,\n 0,\n 1,\n 2,\n 3,\n 4,\n 5,\n 6,\n 7,\n 8,\n 9,\n 10,\n 12,\n 13,\n 14,\n 0,\n 1,\n 2,\n 3,\n 4,\n 5,\n 6,\n 7,\n 8,\n 9,\n 10,\n 11,\n 12,\n 13,\n 14,\n 0,\n 2,\n 3,\n 4,\n 5,\n 6,\n 7,\n 8,\n 9,\n 10,\n 11,\n 12,\n 13,\n 14,\n 0,\n 1,\n 2,\n 3,\n 4,\n 5,\n 6,\n 7,\n 8,\n 9,\n 10,\n 11,\n 12,\n 13,\n 14,\n 0,\n 1,\n 2,\n 3,\n 4,\n 5,\n 6,\n 7,\n 8,\n 9,\n 10,\n 11,\n 12,\n 13,\n 14,\n 0,\n 1,\n 2,\n 3,\n 4,\n 5,\n 6,\n 7,\n 8,\n 9,\n 10,\n 11,\n 12,\n 13,\n 14,\n 0,\n 1,\n 2,\n 3,\n 4,\n 5,\n 6,\n 7,\n 8,\n 9,\n 10,\n 11,\n 12,\n 13,\n 14,\n 0,\n 1,\n 2,\n 3,\n 4,\n 5,\n 6,\n 7,\n 8,\n 9,\n 10,\n 11,\n 12,\n 13,\n 14,\n 0,\n 1,\n 2,\n 3,\n 5,\n 6,\n 7,\n 8,\n 9,\n 10,\n 11,\n 12,\n 13,\n 14,\n 0,\n 1,\n 2,\n 3,\n 4,\n 5,\n 6,\n 7,\n 8,\n 9,\n 10,\n 11,\n 12,\n 13,\n 14,\n 0,\n 1,\n 2,\n 3,\n 4,\n 5,\n 6,\n 7,\n 8,\n 9,\n 10,\n 11,\n 12,\n 13,\n 14,\n 0,\n 1,\n 2,\n 3,\n 4,\n 5,\n 6,\n 7,\n 8,\n 9,\n 10,\n 11,\n 12,\n 13,\n 14,\n 0,\n 1,\n 2,\n 3,\n 4,\n 5,\n 6,\n 7,\n 8,\n 9,\n 10,\n 11,\n 12,\n 13,\n 14,\n 0,\n 1,\n 2,\n 3,\n 4,\n 5,\n 6,\n 7,\n 8,\n 9,\n 10,\n 11,\n 12,\n 13,\n 14,\n 0,\n 1,\n 2,\n 3,\n 4,\n 5,\n 6,\n 7,\n 8,\n 9,\n 10,\n 11,\n 12,\n 13,\n 14,\n 0,\n 1,\n 2,\n 3,\n 4,\n 5,\n 6,\n 7,\n 8,\n 9,\n 10,\n 11,\n 12,\n 13,\n 14,\n 0,\n 1,\n 2,\n 3,\n 5,\n 6,\n 7,\n 8,\n 9,\n 10,\n 11,\n 12,\n 13,\n 14,\n 0,\n 1,\n 2,\n 3,\n 4,\n 5,\n 6,\n 7,\n 8,\n 9,\n 10,\n 11,\n 12,\n 13,\n 14,\n 0,\n 1,\n 2,\n 3,\n 4,\n 5,\n 6,\n 7,\n 8,\n 9,\n 10,\n 11,\n 12,\n 13,\n 14,\n 0,\n 1,\n 2,\n 3,\n 4,\n 5,\n 6,\n 7,\n 8,\n 9,\n 10,\n 11,\n 12,\n 13,\n 14,\n 0,\n 1,\n 2,\n 3,\n 4,\n 5,\n 6,\n 7,\n 8,\n 9,\n 10,\n 11,\n 12,\n 13,\n 14,\n 0,\n 1,\n 2,\n 3,\n 4,\n 5,\n 6,\n 7,\n 8,\n 9,\n 10,\n 11,\n 12,\n 13,\n 14,\n 0,\n 1,\n 2,\n 3,\n 4,\n 5,\n 6,\n 7,\n 8,\n 9,\n 10,\n 11,\n 12,\n 13,\n 14,\n 0,\n 1,\n 2,\n 3,\n 4,\n 5,\n 6,\n 7,\n 8,\n 9,\n 10,\n 11,\n 12,\n 13,\n 14,\n 0,\n 1,\n 2,\n 3,\n 4,\n 5,\n 6,\n 7,\n 8,\n 9,\n 10,\n 11,\n 12,\n 13,\n 14,\n 0,\n 1,\n 2,\n 3,\n 4,\n 5,\n 6,\n 7,\n 8,\n 9,\n 10,\n 11,\n 12,\n 13,\n 14,\n 0,\n 1,\n 2,\n 3,\n 4,\n 5,\n 6,\n 7,\n 8,\n 9,\n 10,\n 11,\n 12,\n 13,\n 14,\n 0,\n 1,\n 2,\n 3,\n 4,\n 5,\n 6,\n 7,\n 8,\n 9,\n 10,\n 11,\n 12,\n 13,\n 14,\n 0,\n 1,\n 2,\n 3,\n 4,\n 5,\n 6,\n 7,\n 8,\n 9,\n 10,\n 11,\n 12,\n 13,\n 14,\n 0,\n 1,\n 2,\n 3,\n 4,\n 5,\n 6,\n 7,\n 8,\n 9,\n 10,\n 11,\n 12,\n 13,\n 14,\n 0,\n 1,\n 2,\n 3,\n 4,\n 5,\n 6,\n 7,\n 8,\n 9,\n 10,\n 11,\n 12,\n 13,\n 0,\n 1,\n 2,\n 3,\n 4,\n 5,\n 6,\n 7,\n 8,\n 9,\n 10,\n 11,\n 12,\n 13,\n 14,\n 0,\n 1,\n 2,\n 3,\n 4,\n 5,\n 6,\n 7,\n 8,\n 9,\n 10,\n 11,\n 12,\n 13,\n 14,\n 0,\n 1,\n 2,\n 3,\n 4,\n 5,\n 6,\n 7,\n 8,\n 9,\n 10,\n 11,\n 12,\n 13,\n 14,\n 0,\n 1,\n 2,\n 3,\n 4,\n 5,\n 6,\n 7,\n 8,\n 9,\n 10,\n 11,\n 12,\n 13,\n 14,\n 0,\n 1,\n 2,\n 3,\n 4,\n 5,\n 6,\n 7,\n 8,\n 9,\n 10,\n 11,\n 12,\n 13,\n 14,\n 0,\n 2,\n 3,\n 4,\n 5,\n 6,\n ...]"
     },
     "execution_count": 42,
     "metadata": {},
     "output_type": "execute_result"
    }
   ],
   "source": [
    "organs_class"
   ],
   "metadata": {
    "collapsed": false,
    "pycharm": {
     "name": "#%%\n"
    }
   }
  },
  {
   "cell_type": "code",
   "execution_count": 43,
   "outputs": [
    {
     "data": {
      "text/plain": "Counter({0: 240,\n         1: 237,\n         2: 240,\n         3: 239,\n         4: 225,\n         5: 239,\n         6: 240,\n         7: 238,\n         8: 240,\n         9: 240,\n         10: 240,\n         11: 239,\n         12: 240,\n         13: 197,\n         14: 194})"
     },
     "execution_count": 43,
     "metadata": {},
     "output_type": "execute_result"
    }
   ],
   "source": [
    "from collections import Counter\n",
    "Counter(organs_class)"
   ],
   "metadata": {
    "collapsed": false,
    "pycharm": {
     "name": "#%%\n"
    }
   }
  },
  {
   "cell_type": "code",
   "execution_count": 44,
   "outputs": [],
   "source": [
    "from matplotlib import pyplot as plt\n",
    "\n",
    "plt.hist(organs_class)\n",
    "plt.show()"
   ],
   "metadata": {
    "collapsed": false,
    "pycharm": {
     "name": "#%%\n"
    }
   }
  },
  {
   "cell_type": "code",
   "execution_count": null,
   "outputs": [],
   "source": [],
   "metadata": {
    "collapsed": false,
    "pycharm": {
     "name": "#%%\n"
    }
   }
  }
 ],
 "metadata": {
  "kernelspec": {
   "display_name": "Python 3",
   "language": "python",
   "name": "python3"
  },
  "language_info": {
   "codemirror_mode": {
    "name": "ipython",
    "version": 2
   },
   "file_extension": ".py",
   "mimetype": "text/x-python",
   "name": "python",
   "nbconvert_exporter": "python",
   "pygments_lexer": "ipython2",
   "version": "2.7.6"
  }
 },
 "nbformat": 4,
 "nbformat_minor": 0
}