{
 "cells": [
  {
   "cell_type": "code",
   "execution_count": 20,
   "outputs": [
    {
     "name": "stdout",
     "output_type": "stream",
     "text": [
      "1.12.0+cu113\n",
      "8302\n",
      "Requirement already satisfied: nnUnet in c:\\users\\sathy\\onedrive\\documents\\github\\multi-modality-abdominal-multi-organ-segmentation-challenge-2022\\venv\\lib\\site-packages (1.7.0)\n",
      "Requirement already satisfied: nibabel in c:\\users\\sathy\\onedrive\\documents\\github\\multi-modality-abdominal-multi-organ-segmentation-challenge-2022\\venv\\lib\\site-packages (from nnUnet) (3.1.1)\n",
      "Requirement already satisfied: tqdm in c:\\users\\sathy\\onedrive\\documents\\github\\multi-modality-abdominal-multi-organ-segmentation-challenge-2022\\venv\\lib\\site-packages (from nnUnet) (4.63.0)\n",
      "Requirement already satisfied: numpy in c:\\users\\sathy\\onedrive\\documents\\github\\multi-modality-abdominal-multi-organ-segmentation-challenge-2022\\venv\\lib\\site-packages (from nnUnet) (1.23.1)\n",
      "Requirement already satisfied: medpy in c:\\users\\sathy\\onedrive\\documents\\github\\multi-modality-abdominal-multi-organ-segmentation-challenge-2022\\venv\\lib\\site-packages (from nnUnet) (0.4.0)\n",
      "Requirement already satisfied: dicom2nifti in c:\\users\\sathy\\onedrive\\documents\\github\\multi-modality-abdominal-multi-organ-segmentation-challenge-2022\\venv\\lib\\site-packages (from nnUnet) (2.4.2)\n",
      "Requirement already satisfied: scipy in c:\\users\\sathy\\onedrive\\documents\\github\\multi-modality-abdominal-multi-organ-segmentation-challenge-2022\\venv\\lib\\site-packages (from nnUnet) (1.8.1)\n",
      "Requirement already satisfied: tifffile in c:\\users\\sathy\\onedrive\\documents\\github\\multi-modality-abdominal-multi-organ-segmentation-challenge-2022\\venv\\lib\\site-packages (from nnUnet) (2022.5.4)\n",
      "Requirement already satisfied: sklearn in c:\\users\\sathy\\onedrive\\documents\\github\\multi-modality-abdominal-multi-organ-segmentation-challenge-2022\\venv\\lib\\site-packages (from nnUnet) (0.0)\n",
      "Requirement already satisfied: SimpleITK in c:\\users\\sathy\\onedrive\\documents\\github\\multi-modality-abdominal-multi-organ-segmentation-challenge-2022\\venv\\lib\\site-packages (from nnUnet) (2.1.1.2)\n",
      "Requirement already satisfied: pandas in c:\\users\\sathy\\onedrive\\documents\\github\\multi-modality-abdominal-multi-organ-segmentation-challenge-2022\\venv\\lib\\site-packages (from nnUnet) (1.4.3)\n",
      "Requirement already satisfied: torch>=1.6.0a in c:\\users\\sathy\\onedrive\\documents\\github\\multi-modality-abdominal-multi-organ-segmentation-challenge-2022\\venv\\lib\\site-packages (from nnUnet) (1.12.0+cu113)\n",
      "Requirement already satisfied: batchgenerators>=0.23 in c:\\users\\sathy\\onedrive\\documents\\github\\multi-modality-abdominal-multi-organ-segmentation-challenge-2022\\venv\\lib\\site-packages (from nnUnet) (0.24)\n",
      "Requirement already satisfied: requests in c:\\users\\sathy\\onedrive\\documents\\github\\multi-modality-abdominal-multi-organ-segmentation-challenge-2022\\venv\\lib\\site-packages (from nnUnet) (2.28.1)\n",
      "Requirement already satisfied: scikit-image>=0.14 in c:\\users\\sathy\\onedrive\\documents\\github\\multi-modality-abdominal-multi-organ-segmentation-challenge-2022\\venv\\lib\\site-packages (from nnUnet) (0.19.3)\n",
      "Requirement already satisfied: pillow>=7.1.2 in c:\\users\\sathy\\onedrive\\documents\\github\\multi-modality-abdominal-multi-organ-segmentation-challenge-2022\\venv\\lib\\site-packages (from batchgenerators>=0.23->nnUnet) (9.2.0)\n",
      "Requirement already satisfied: future in c:\\users\\sathy\\onedrive\\documents\\github\\multi-modality-abdominal-multi-organ-segmentation-challenge-2022\\venv\\lib\\site-packages (from batchgenerators>=0.23->nnUnet) (0.18.2)\n",
      "Requirement already satisfied: threadpoolctl in c:\\users\\sathy\\onedrive\\documents\\github\\multi-modality-abdominal-multi-organ-segmentation-challenge-2022\\venv\\lib\\site-packages (from batchgenerators>=0.23->nnUnet) (3.1.0)\n",
      "Requirement already satisfied: unittest2 in c:\\users\\sathy\\onedrive\\documents\\github\\multi-modality-abdominal-multi-organ-segmentation-challenge-2022\\venv\\lib\\site-packages (from batchgenerators>=0.23->nnUnet) (1.1.0)\n",
      "Requirement already satisfied: scikit-learn in c:\\users\\sathy\\onedrive\\documents\\github\\multi-modality-abdominal-multi-organ-segmentation-challenge-2022\\venv\\lib\\site-packages (from batchgenerators>=0.23->nnUnet) (1.1.1)\n",
      "Requirement already satisfied: PyWavelets>=1.1.1 in c:\\users\\sathy\\onedrive\\documents\\github\\multi-modality-abdominal-multi-organ-segmentation-challenge-2022\\venv\\lib\\site-packages (from scikit-image>=0.14->nnUnet) (1.3.0)\n",
      "Requirement already satisfied: packaging>=20.0 in c:\\users\\sathy\\onedrive\\documents\\github\\multi-modality-abdominal-multi-organ-segmentation-challenge-2022\\venv\\lib\\site-packages (from scikit-image>=0.14->nnUnet) (21.3)\n",
      "Requirement already satisfied: imageio>=2.4.1 in c:\\users\\sathy\\onedrive\\documents\\github\\multi-modality-abdominal-multi-organ-segmentation-challenge-2022\\venv\\lib\\site-packages (from scikit-image>=0.14->nnUnet) (2.19.3)\n",
      "Requirement already satisfied: networkx>=2.2 in c:\\users\\sathy\\onedrive\\documents\\github\\multi-modality-abdominal-multi-organ-segmentation-challenge-2022\\venv\\lib\\site-packages (from scikit-image>=0.14->nnUnet) (2.8.4)\n",
      "Requirement already satisfied: typing-extensions in c:\\users\\sathy\\onedrive\\documents\\github\\multi-modality-abdominal-multi-organ-segmentation-challenge-2022\\venv\\lib\\site-packages (from torch>=1.6.0a->nnUnet) (4.3.0)\n",
      "Requirement already satisfied: pydicom>=2.2.0 in c:\\users\\sathy\\onedrive\\documents\\github\\multi-modality-abdominal-multi-organ-segmentation-challenge-2022\\venv\\lib\\site-packages (from dicom2nifti->nnUnet) (2.3.0)\n",
      "Requirement already satisfied: python-gdcm in c:\\users\\sathy\\onedrive\\documents\\github\\multi-modality-abdominal-multi-organ-segmentation-challenge-2022\\venv\\lib\\site-packages (from dicom2nifti->nnUnet) (3.0.14)\n",
      "Requirement already satisfied: python-dateutil>=2.8.1 in c:\\users\\sathy\\onedrive\\documents\\github\\multi-modality-abdominal-multi-organ-segmentation-challenge-2022\\venv\\lib\\site-packages (from pandas->nnUnet) (2.8.2)\n",
      "Requirement already satisfied: pytz>=2020.1 in c:\\users\\sathy\\onedrive\\documents\\github\\multi-modality-abdominal-multi-organ-segmentation-challenge-2022\\venv\\lib\\site-packages (from pandas->nnUnet) (2022.1)\n",
      "Requirement already satisfied: idna<4,>=2.5 in c:\\users\\sathy\\onedrive\\documents\\github\\multi-modality-abdominal-multi-organ-segmentation-challenge-2022\\venv\\lib\\site-packages (from requests->nnUnet) (3.3)\n",
      "Requirement already satisfied: charset-normalizer<3,>=2 in c:\\users\\sathy\\onedrive\\documents\\github\\multi-modality-abdominal-multi-organ-segmentation-challenge-2022\\venv\\lib\\site-packages (from requests->nnUnet) (2.1.0)\n",
      "Requirement already satisfied: urllib3<1.27,>=1.21.1 in c:\\users\\sathy\\onedrive\\documents\\github\\multi-modality-abdominal-multi-organ-segmentation-challenge-2022\\venv\\lib\\site-packages (from requests->nnUnet) (1.26.10)\n",
      "Requirement already satisfied: certifi>=2017.4.17 in c:\\users\\sathy\\onedrive\\documents\\github\\multi-modality-abdominal-multi-organ-segmentation-challenge-2022\\venv\\lib\\site-packages (from requests->nnUnet) (2022.6.15)\n",
      "Requirement already satisfied: colorama in c:\\users\\sathy\\onedrive\\documents\\github\\multi-modality-abdominal-multi-organ-segmentation-challenge-2022\\venv\\lib\\site-packages (from tqdm->nnUnet) (0.4.5)\n",
      "Requirement already satisfied: pyparsing!=3.0.5,>=2.0.2 in c:\\users\\sathy\\onedrive\\documents\\github\\multi-modality-abdominal-multi-organ-segmentation-challenge-2022\\venv\\lib\\site-packages (from packaging>=20.0->scikit-image>=0.14->nnUnet) (3.0.9)\n",
      "Requirement already satisfied: six>=1.5 in c:\\users\\sathy\\onedrive\\documents\\github\\multi-modality-abdominal-multi-organ-segmentation-challenge-2022\\venv\\lib\\site-packages (from python-dateutil>=2.8.1->pandas->nnUnet) (1.16.0)\n",
      "Requirement already satisfied: joblib>=1.0.0 in c:\\users\\sathy\\onedrive\\documents\\github\\multi-modality-abdominal-multi-organ-segmentation-challenge-2022\\venv\\lib\\site-packages (from scikit-learn->batchgenerators>=0.23->nnUnet) (1.1.0)\n",
      "Requirement already satisfied: traceback2 in c:\\users\\sathy\\onedrive\\documents\\github\\multi-modality-abdominal-multi-organ-segmentation-challenge-2022\\venv\\lib\\site-packages (from unittest2->batchgenerators>=0.23->nnUnet) (1.4.0)\n",
      "Collecting argparse\n",
      "  Using cached argparse-1.4.0-py2.py3-none-any.whl (23 kB)\n",
      "Requirement already satisfied: linecache2 in c:\\users\\sathy\\onedrive\\documents\\github\\multi-modality-abdominal-multi-organ-segmentation-challenge-2022\\venv\\lib\\site-packages (from traceback2->unittest2->batchgenerators>=0.23->nnUnet) (1.0.0)\n",
      "Installing collected packages: argparse\n",
      "Successfully installed argparse-1.4.0\n"
     ]
    }
   ],
   "source": [
    "import torch\n",
    "print(torch.__version__)\n",
    "print(torch.backends.cudnn.version())\n",
    "!pip install nnUnet"
   ],
   "metadata": {
    "collapsed": false,
    "pycharm": {
     "name": "#%%\n"
    }
   }
  },
  {
   "cell_type": "code",
   "execution_count": 26,
   "outputs": [
    {
     "name": "stdout",
     "output_type": "stream",
     "text": [
      "C:\\Users\\sathy\\OneDrive\\Documents\\GitHub\\Multi-Modality-Abdominal-Multi-Organ-Segmentation-Challenge-2022\n",
      "\n",
      "\n",
      "Please cite the following paper when using nnUNet:\n",
      "\n",
      "Isensee, F., Jaeger, P.F., Kohl, S.A.A. et al. \"nnU-Net: a self-configuring method for deep learning-based biomedical image segmentation.\" Nat Methods (2020). https://doi.org/10.1038/s41592-020-01008-z\n",
      "\n",
      "\n",
      "If you have questions or suggestions, feel free to open an issue at https://github.com/MIC-DKFZ/nnUNet\n",
      "\n",
      "nnUNet_raw_data_base is not defined and nnU-Net can only be used on data for which preprocessed files are already present on your system. nnU-Net cannot be used for experiment planning and preprocessing like this. If this is not intended, please read documentation/setting_up_paths.md for information on how to set this up properly.\n",
      "nnUNet_preprocessed is not defined and nnU-Net can not be used for preprocessing or training. If this is not intended, please read documentation/setting_up_paths.md for information on how to set this up.\n",
      "RESULTS_FOLDER is not defined and nnU-Net cannot be used for training or inference. If this is not intended behavior, please read documentation/setting_up_paths.md for information on how to set this up.\n",
      "usage: nnUNet_plan_and_preprocess [-h] [-t TASK_IDS [TASK_IDS ...]]\n",
      "                                  [-pl3d PLANNER3D] [-pl2d PLANNER2D] [-no_pp]\n",
      "                                  [-tl TL] [-tf TF]\n",
      "                                  [--verify_dataset_integrity]\n",
      "                                  [-overwrite_plans OVERWRITE_PLANS]\n",
      "                                  [-overwrite_plans_identifier OVERWRITE_PLANS_IDENTIFIER]\n",
      "\n",
      "optional arguments:\n",
      "  -h, --help            show this help message and exit\n",
      "  -t TASK_IDS [TASK_IDS ...], --task_ids TASK_IDS [TASK_IDS ...]\n",
      "                        List of integers belonging to the task ids you wish to\n",
      "                        run experiment planning and preprocessing for. Each of\n",
      "                        these ids must, have a matching folder 'TaskXXX_' in\n",
      "                        the raw data folder\n",
      "  -pl3d PLANNER3D, --planner3d PLANNER3D\n",
      "                        Name of the ExperimentPlanner class for the full\n",
      "                        resolution 3D U-Net and U-Net cascade. Default is\n",
      "                        ExperimentPlanner3D_v21. Can be 'None', in which case\n",
      "                        these U-Nets will not be configured\n",
      "  -pl2d PLANNER2D, --planner2d PLANNER2D\n",
      "                        Name of the ExperimentPlanner class for the 2D U-Net.\n",
      "                        Default is ExperimentPlanner2D_v21. Can be 'None', in\n",
      "                        which case this U-Net will not be configured\n",
      "  -no_pp                Set this flag if you dont want to run the\n",
      "                        preprocessing. If this is set then this script will\n",
      "                        only run the experiment planning and create the plans\n",
      "                        file\n",
      "  -tl TL                Number of processes used for preprocessing the low\n",
      "                        resolution data for the 3D low resolution U-Net. This\n",
      "                        can be larger than -tf. Don't overdo it or you will\n",
      "                        run out of RAM\n",
      "  -tf TF                Number of processes used for preprocessing the full\n",
      "                        resolution data of the 2D U-Net and 3D U-Net. Don't\n",
      "                        overdo it or you will run out of RAM\n",
      "  --verify_dataset_integrity\n",
      "                        set this flag to check the dataset integrity. This is\n",
      "                        useful and should be done once for each dataset!\n",
      "  -overwrite_plans OVERWRITE_PLANS\n",
      "                        Use this to specify a plans file that should be used\n",
      "                        instead of whatever nnU-Net would configure\n",
      "                        automatically. This will overwrite everything:\n",
      "                        intensity normalization, network architecture, target\n",
      "                        spacing etc. Using this is useful for using pretrained\n",
      "                        model weights as this will guarantee that the network\n",
      "                        architecture on the target dataset is the same as on\n",
      "                        the source dataset and the weights can therefore be\n",
      "                        transferred. Pro tip: If you want to pretrain on\n",
      "                        Hepaticvessel and apply the result to LiTS then use\n",
      "                        the LiTS plans to run the preprocessing of the\n",
      "                        HepaticVessel task. Make sure to only use plans files\n",
      "                        that were generated with the same number of modalities\n",
      "                        as the target dataset (LiTS -> BCV or LiTS ->\n",
      "                        Task008_HepaticVessel is OK. BraTS -> LiTS is not\n",
      "                        (BraTS has 4 input modalities, LiTS has just one)).\n",
      "                        Also only do things that make sense. This\n",
      "                        functionality is beta withno support given. Note that\n",
      "                        this will first print the old plans (which are going\n",
      "                        to be overwritten) and then the new ones (provided\n",
      "                        that -no_pp was NOT set).\n",
      "  -overwrite_plans_identifier OVERWRITE_PLANS_IDENTIFIER\n",
      "                        If you set overwrite_plans you need to provide a\n",
      "                        unique identifier so that nnUNet knows where to look\n",
      "                        for the correct plans and data. Assume your identifier\n",
      "                        is called IDENTIFIER, the correct training command\n",
      "                        would be: 'nnUNet_train CONFIG TRAINER TASKID FOLD -p\n",
      "                        nnUNetPlans_pretrained_IDENTIFIER -pretrained_weights\n",
      "                        FILENAME'\n"
     ]
    }
   ],
   "source": [
    "import os\n",
    "print(os.getcwd())\n",
    "# !nnUNet_convert_decathlon_task -h\n",
    "!nnUNet_plan_and_preprocess -t 500 --verify_dataset_integrity# !nnUNet_plan_and_preprocess -h\n"
   ],
   "metadata": {
    "collapsed": false,
    "pycharm": {
     "name": "#%%\n"
    }
   }
  },
  {
   "cell_type": "code",
   "execution_count": 21,
   "outputs": [],
   "source": [],
   "metadata": {
    "collapsed": false,
    "pycharm": {
     "name": "#%%\n"
    }
   }
  }
 ],
 "metadata": {
  "kernelspec": {
   "display_name": "Python 3",
   "language": "python",
   "name": "python3"
  },
  "language_info": {
   "codemirror_mode": {
    "name": "ipython",
    "version": 2
   },
   "file_extension": ".py",
   "mimetype": "text/x-python",
   "name": "python",
   "nbconvert_exporter": "python",
   "pygments_lexer": "ipython2",
   "version": "2.7.6"
  }
 },
 "nbformat": 4,
 "nbformat_minor": 0
}