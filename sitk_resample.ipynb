{
 "cells": [
  {
   "cell_type": "markdown",
   "metadata": {
    "pycharm": {
     "name": "#%% md\n"
    }
   },
   "source": [
    "# How to resample image:"
   ]
  },
  {
   "cell_type": "code",
   "execution_count": 11,
   "metadata": {
    "pycharm": {
     "name": "#%%\n"
    }
   },
   "outputs": [],
   "source": [
    "import numpy as np\n",
    "import SimpleITK as sitk"
   ]
  },
  {
   "cell_type": "markdown",
   "metadata": {
    "pycharm": {
     "name": "#%% md\n"
    }
   },
   "source": [
    "### Load image and label"
   ]
  },
  {
   "cell_type": "code",
   "execution_count": 12,
   "outputs": [],
   "source": [
    "img_path = 'data/AMOS22/imagesTr/amos_0001.nii.gz'\n",
    "lbl_path = 'data/AMOS22/labelsTr/amos_0001.nii.gz'\n",
    "\n",
    "img = sitk.ReadImage(img_path)\n",
    "lbl = sitk.ReadImage(lbl_path)"
   ],
   "metadata": {
    "collapsed": false,
    "pycharm": {
     "name": "#%%\n"
    }
   }
  },
  {
   "cell_type": "markdown",
   "metadata": {
    "pycharm": {
     "name": "#%% md\n"
    }
   },
   "source": [
    "### Set new spacing parameters"
   ]
  },
  {
   "cell_type": "code",
   "execution_count": 13,
   "metadata": {
    "pycharm": {
     "name": "#%%\n"
    }
   },
   "outputs": [
    {
     "name": "stdout",
     "output_type": "stream",
     "text": [
      "[768 768  90]\n",
      "(0.5703125, 0.5703125, 5.0)\n",
      "[462, 462, 180]\n"
     ]
    }
   ],
   "source": [
    "new_spacing = np.array([0.95, 0.95, 2.5])\n",
    "\n",
    "orig_size = np.array(img.GetSize(), dtype=int)\n",
    "orig_spacing = img.GetSpacing()\n",
    "\n",
    "new_size = np.ceil(orig_size * (orig_spacing/new_spacing)).astype(int)\n",
    "new_size = [int(s) for s in new_size]\n",
    "print(orig_size)\n",
    "print(orig_spacing)\n",
    "print(new_size)"
   ]
  },
  {
   "cell_type": "markdown",
   "metadata": {
    "pycharm": {
     "name": "#%% md\n"
    }
   },
   "source": [
    "### Resample Images "
   ]
  },
  {
   "cell_type": "code",
   "execution_count": 14,
   "metadata": {
    "pycharm": {
     "name": "#%%\n"
    }
   },
   "outputs": [],
   "source": [
    "for ct, arr in enumerate([img, lbl]):\n",
    "    resample = sitk.ResampleImageFilter()\n",
    "    resample.SetOutputSpacing(new_spacing)\n",
    "    resample.SetSize(new_size)    \n",
    "    if ct == 0:\n",
    "        resample.SetInterpolator = sitk.sitkBSpline\n",
    "        img_resampled = resample.Execute(arr)\n",
    "    else:\n",
    "        resample.SetInterpolator = sitk.sitkNearestNeighbor\n",
    "        lbl_resampled = resample.Execute(arr)\n"
   ]
  },
  {
   "cell_type": "code",
   "execution_count": 15,
   "metadata": {
    "pycharm": {
     "name": "#%%\n"
    }
   },
   "outputs": [
    {
     "name": "stdout",
     "output_type": "stream",
     "text": [
      "Image (000001F5B44699B0)\n",
      "  RTTI typeinfo:   class itk::Image<float,3>\n",
      "  Reference Count: 1\n",
      "  Modified Time: 2134\n",
      "  Debug: Off\n",
      "  Object Name: \n",
      "  Observers: \n",
      "    none\n",
      "  Source: (none)\n",
      "  Source output name: (none)\n",
      "  Release Data: Off\n",
      "  Data Released: False\n",
      "  Global Release Data: Off\n",
      "  PipelineMTime: 2117\n",
      "  UpdateMTime: 2133\n",
      "  RealTimeStamp: 0 seconds \n",
      "  LargestPossibleRegion: \n",
      "    Dimension: 3\n",
      "    Index: [0, 0, 0]\n",
      "    Size: [462, 462, 180]\n",
      "  BufferedRegion: \n",
      "    Dimension: 3\n",
      "    Index: [0, 0, 0]\n",
      "    Size: [462, 462, 180]\n",
      "  RequestedRegion: \n",
      "    Dimension: 3\n",
      "    Index: [0, 0, 0]\n",
      "    Size: [462, 462, 180]\n",
      "  Spacing: [0.95, 0.95, 2.5]\n",
      "  Origin: [0, 0, 0]\n",
      "  Direction: \n",
      "1 0 0\n",
      "0 1 0\n",
      "0 0 1\n",
      "\n",
      "  IndexToPointMatrix: \n",
      "0.95 0 0\n",
      "0 0.95 0\n",
      "0 0 2.5\n",
      "\n",
      "  PointToIndexMatrix: \n",
      "1.05263 0 0\n",
      "0 1.05263 0\n",
      "0 0 0.4\n",
      "\n",
      "  Inverse Direction: \n",
      "1 0 0\n",
      "0 1 0\n",
      "0 0 1\n",
      "\n",
      "  PixelContainer: \n",
      "    ImportImageContainer (000001F5B3C174F0)\n",
      "      RTTI typeinfo:   class itk::ImportImageContainer<unsigned __int64,float>\n",
      "      Reference Count: 1\n",
      "      Modified Time: 2131\n",
      "      Debug: Off\n",
      "      Object Name: \n",
      "      Observers: \n",
      "        none\n",
      "      Pointer: 000001F5BC2AA040\n",
      "      Container manages memory: true\n",
      "      Size: 38419920\n",
      "      Capacity: 38419920\n",
      "\n"
     ]
    }
   ],
   "source": [
    "print(img_resampled)"
   ]
  },
  {
   "cell_type": "markdown",
   "metadata": {
    "pycharm": {
     "name": "#%% md\n"
    }
   },
   "source": [
    "### To do:\n",
    "* Add code to save \"resampled\" image and label\n",
    "* Verify that volumes pre and post-resampling are in the same ballpark"
   ]
  },
  {
   "cell_type": "code",
   "execution_count": 15,
   "metadata": {
    "pycharm": {
     "name": "#%%\n"
    }
   },
   "outputs": [],
   "source": []
  }
 ],
 "metadata": {
  "kernelspec": {
   "name": "python3",
   "language": "python",
   "display_name": "Python 3 (ipykernel)"
  },
  "language_info": {
   "codemirror_mode": {
    "name": "ipython",
    "version": 3
   },
   "file_extension": ".py",
   "mimetype": "text/x-python",
   "name": "python",
   "nbconvert_exporter": "python",
   "pygments_lexer": "ipython3",
   "version": "3.8.10"
  }
 },
 "nbformat": 4,
 "nbformat_minor": 4
}