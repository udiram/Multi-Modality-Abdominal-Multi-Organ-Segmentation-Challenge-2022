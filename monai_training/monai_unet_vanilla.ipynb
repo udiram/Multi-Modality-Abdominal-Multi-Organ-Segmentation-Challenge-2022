{
 "cells": [
  {
   "cell_type": "code",
   "execution_count": 41,
   "outputs": [
    {
     "name": "stdout",
     "output_type": "stream",
     "text": [
      "MONAI version: 0.10.dev2228\n",
      "Numpy version: 1.23.1\n",
      "Pytorch version: 1.12.0+cu113\n",
      "MONAI flags: HAS_EXT = False, USE_COMPILED = False\n",
      "MONAI rev id: b287dfc6a7c397523ba67e10a0436099fb0a44f7\n",
      "MONAI __file__: C:\\Users\\sathy\\OneDrive\\Documents\\GitHub\\Multi-Modality-Abdominal-Multi-Organ-Segmentation-Challenge-2022\\venv\\lib\\site-packages\\monai\\__init__.py\n",
      "\n",
      "Optional dependencies:\n",
      "Pytorch Ignite version: 0.4.9\n",
      "Nibabel version: 4.0.1\n",
      "scikit-image version: 0.19.3\n",
      "Pillow version: 9.2.0\n",
      "Tensorboard version: 2.9.1\n",
      "gdown version: 4.5.1\n",
      "TorchVision version: NOT INSTALLED or UNKNOWN VERSION.\n",
      "tqdm version: 4.64.0\n",
      "lmdb version: 1.3.0\n",
      "psutil version: 5.9.1\n",
      "pandas version: 1.4.3\n",
      "einops version: 0.4.1\n",
      "transformers version: 4.20.1\n",
      "mlflow version: 1.27.0\n",
      "pynrrd version: 0.4.3\n",
      "\n",
      "For details about installing the optional dependencies, please visit:\n",
      "    https://docs.monai.io/en/latest/installation.html#installing-the-recommended-dependencies\n",
      "\n"
     ]
    }
   ],
   "source": [
    "# Copyright 2020 MONAI Consortium\n",
    "# Licensed under the Apache License, Version 2.0 (the \"License\");\n",
    "# you may not use this file except in compliance with the License.\n",
    "# You may obtain a copy of the License at\n",
    "#     http://www.apache.org/licenses/LICENSE-2.0\n",
    "# Unless required by applicable law or agreed to in writing, software\n",
    "# distributed under the License is distributed on an \"AS IS\" BASIS,\n",
    "# WITHOUT WARRANTIES OR CONDITIONS OF ANY KIND, either express or implied.\n",
    "# See the License for the specific language governing permissions and\n",
    "# limitations under the License.\n",
    "\n",
    "import glob\n",
    "import logging\n",
    "import os\n",
    "import shutil\n",
    "import sys\n",
    "import tempfile\n",
    "\n",
    "import catalyst.dl\n",
    "import matplotlib.pyplot as plt\n",
    "import nibabel as nib\n",
    "import numpy as np\n",
    "from monai.config import print_config\n",
    "from monai.data import Dataset, create_test_image_3d, list_data_collate, decollate_batch\n",
    "from monai.inferers import sliding_window_inference\n",
    "from monai.losses import DiceLoss\n",
    "from monai.metrics import DiceMetric\n",
    "from monai.networks.nets import UNet\n",
    "from monai.transforms import (\n",
    "    Activations,\n",
    "    AsChannelFirstd,\n",
    "    AsDiscrete,\n",
    "    Compose,\n",
    "    LoadImaged,\n",
    "    RandCropByPosNegLabeld,\n",
    "    RandRotate90d,\n",
    "    ScaleIntensityd,\n",
    "    EnsureTyped,\n",
    "    EnsureType,\n",
    ")\n",
    "from monai.utils import first\n",
    "\n",
    "import torch\n",
    "\n",
    "print_config()"
   ],
   "metadata": {
    "collapsed": false,
    "pycharm": {
     "name": "#%%\n"
    }
   }
  },
  {
   "cell_type": "code",
   "execution_count": 42,
   "outputs": [],
   "source": [
    "logging.basicConfig(stream=sys.stdout, level=logging.INFO)\n",
    "root_dir = 'monai_unet/'"
   ],
   "metadata": {
    "collapsed": false,
    "pycharm": {
     "name": "#%%\n"
    }
   }
  },
  {
   "cell_type": "code",
   "execution_count": 35,
   "outputs": [
    {
     "name": "stdout",
     "output_type": "stream",
     "text": [
      "C:\\Users\\sathy\\OneDrive\\Documents\\GitHub\\Multi-Modality-Abdominal-Multi-Organ-Segmentation-Challenge-2022\\monai_training\n",
      "['monai_unet\\\\img0.nii.gz', 'monai_unet\\\\img1.nii.gz', 'monai_unet\\\\img10.nii.gz', 'monai_unet\\\\img11.nii.gz', 'monai_unet\\\\img12.nii.gz', 'monai_unet\\\\img13.nii.gz', 'monai_unet\\\\img14.nii.gz', 'monai_unet\\\\img15.nii.gz', 'monai_unet\\\\img16.nii.gz', 'monai_unet\\\\img17.nii.gz', 'monai_unet\\\\img18.nii.gz', 'monai_unet\\\\img19.nii.gz', 'monai_unet\\\\img2.nii.gz', 'monai_unet\\\\img20.nii.gz', 'monai_unet\\\\img21.nii.gz', 'monai_unet\\\\img22.nii.gz', 'monai_unet\\\\img23.nii.gz', 'monai_unet\\\\img24.nii.gz', 'monai_unet\\\\img25.nii.gz', 'monai_unet\\\\img26.nii.gz', 'monai_unet\\\\img27.nii.gz', 'monai_unet\\\\img28.nii.gz', 'monai_unet\\\\img29.nii.gz', 'monai_unet\\\\img3.nii.gz', 'monai_unet\\\\img30.nii.gz', 'monai_unet\\\\img31.nii.gz', 'monai_unet\\\\img32.nii.gz', 'monai_unet\\\\img33.nii.gz', 'monai_unet\\\\img34.nii.gz', 'monai_unet\\\\img35.nii.gz', 'monai_unet\\\\img36.nii.gz', 'monai_unet\\\\img37.nii.gz', 'monai_unet\\\\img38.nii.gz', 'monai_unet\\\\img39.nii.gz', 'monai_unet\\\\img4.nii.gz', 'monai_unet\\\\img5.nii.gz', 'monai_unet\\\\img6.nii.gz', 'monai_unet\\\\img7.nii.gz', 'monai_unet\\\\img8.nii.gz', 'monai_unet\\\\img9.nii.gz']\n",
      "['monai_unet\\\\seg0.nii.gz', 'monai_unet\\\\seg1.nii.gz', 'monai_unet\\\\seg10.nii.gz', 'monai_unet\\\\seg11.nii.gz', 'monai_unet\\\\seg12.nii.gz', 'monai_unet\\\\seg13.nii.gz', 'monai_unet\\\\seg14.nii.gz', 'monai_unet\\\\seg15.nii.gz', 'monai_unet\\\\seg16.nii.gz', 'monai_unet\\\\seg17.nii.gz', 'monai_unet\\\\seg18.nii.gz', 'monai_unet\\\\seg19.nii.gz', 'monai_unet\\\\seg2.nii.gz', 'monai_unet\\\\seg20.nii.gz', 'monai_unet\\\\seg21.nii.gz', 'monai_unet\\\\seg22.nii.gz', 'monai_unet\\\\seg23.nii.gz', 'monai_unet\\\\seg24.nii.gz', 'monai_unet\\\\seg25.nii.gz', 'monai_unet\\\\seg26.nii.gz', 'monai_unet\\\\seg27.nii.gz', 'monai_unet\\\\seg28.nii.gz', 'monai_unet\\\\seg29.nii.gz', 'monai_unet\\\\seg3.nii.gz', 'monai_unet\\\\seg30.nii.gz', 'monai_unet\\\\seg31.nii.gz', 'monai_unet\\\\seg32.nii.gz', 'monai_unet\\\\seg33.nii.gz', 'monai_unet\\\\seg34.nii.gz', 'monai_unet\\\\seg35.nii.gz', 'monai_unet\\\\seg36.nii.gz', 'monai_unet\\\\seg37.nii.gz', 'monai_unet\\\\seg38.nii.gz', 'monai_unet\\\\seg39.nii.gz', 'monai_unet\\\\seg4.nii.gz', 'monai_unet\\\\seg5.nii.gz', 'monai_unet\\\\seg6.nii.gz', 'monai_unet\\\\seg7.nii.gz', 'monai_unet\\\\seg8.nii.gz', 'monai_unet\\\\seg9.nii.gz']\n"
     ]
    }
   ],
   "source": [
    "import os\n",
    "print(os.getcwd())\n",
    "for i in range(40):\n",
    "    im, seg = create_test_image_3d(\n",
    "        128, 128, 128, num_seg_classes=1, channel_dim=-1\n",
    "    )\n",
    "\n",
    "    n = nib.Nifti1Image(im, np.eye(4))\n",
    "    nib.save(n, os.path.join(root_dir, f\"img{i}.nii.gz\"))\n",
    "\n",
    "    n = nib.Nifti1Image(seg, np.eye(4))\n",
    "    nib.save(n, os.path.join(root_dir, f\"seg{i}.nii.gz\"))\n",
    "\n",
    "images = sorted(glob.glob(os.path.join(root_dir, \"img*.nii.gz\")))\n",
    "segs = sorted(glob.glob(os.path.join(root_dir, \"seg*.nii.gz\")))\n",
    "\n",
    "print(images)\n",
    "print(segs)"
   ],
   "metadata": {
    "collapsed": false,
    "pycharm": {
     "name": "#%%\n"
    }
   }
  },
  {
   "cell_type": "code",
   "execution_count": 36,
   "outputs": [
    {
     "name": "stdout",
     "output_type": "stream",
     "text": [
      "['imagesTr\\\\amos_0001.nii.gz', 'imagesTr\\\\amos_0004.nii.gz', 'imagesTr\\\\amos_0005.nii.gz', 'imagesTr\\\\amos_0006.nii.gz', 'imagesTr\\\\amos_0007.nii.gz', 'imagesTr\\\\amos_0009.nii.gz', 'imagesTr\\\\amos_0010.nii.gz', 'imagesTr\\\\amos_0011.nii.gz', 'imagesTr\\\\amos_0014.nii.gz', 'imagesTr\\\\amos_0015.nii.gz', 'imagesTr\\\\amos_0016.nii.gz', 'imagesTr\\\\amos_0017.nii.gz', 'imagesTr\\\\amos_0019.nii.gz', 'imagesTr\\\\amos_0021.nii.gz', 'imagesTr\\\\amos_0023.nii.gz', 'imagesTr\\\\amos_0024.nii.gz', 'imagesTr\\\\amos_0025.nii.gz', 'imagesTr\\\\amos_0027.nii.gz', 'imagesTr\\\\amos_0030.nii.gz', 'imagesTr\\\\amos_0033.nii.gz', 'imagesTr\\\\amos_0035.nii.gz', 'imagesTr\\\\amos_0036.nii.gz', 'imagesTr\\\\amos_0038.nii.gz', 'imagesTr\\\\amos_0042.nii.gz', 'imagesTr\\\\amos_0043.nii.gz', 'imagesTr\\\\amos_0044.nii.gz', 'imagesTr\\\\amos_0045.nii.gz', 'imagesTr\\\\amos_0047.nii.gz', 'imagesTr\\\\amos_0048.nii.gz', 'imagesTr\\\\amos_0049.nii.gz', 'imagesTr\\\\amos_0050.nii.gz', 'imagesTr\\\\amos_0052.nii.gz', 'imagesTr\\\\amos_0054.nii.gz', 'imagesTr\\\\amos_0057.nii.gz', 'imagesTr\\\\amos_0058.nii.gz', 'imagesTr\\\\amos_0059.nii.gz', 'imagesTr\\\\amos_0060.nii.gz', 'imagesTr\\\\amos_0064.nii.gz', 'imagesTr\\\\amos_0066.nii.gz', 'imagesTr\\\\amos_0067.nii.gz', 'imagesTr\\\\amos_0069.nii.gz', 'imagesTr\\\\amos_0071.nii.gz', 'imagesTr\\\\amos_0072.nii.gz', 'imagesTr\\\\amos_0075.nii.gz', 'imagesTr\\\\amos_0076.nii.gz', 'imagesTr\\\\amos_0077.nii.gz', 'imagesTr\\\\amos_0078.nii.gz', 'imagesTr\\\\amos_0079.nii.gz', 'imagesTr\\\\amos_0081.nii.gz', 'imagesTr\\\\amos_0083.nii.gz', 'imagesTr\\\\amos_0084.nii.gz', 'imagesTr\\\\amos_0086.nii.gz', 'imagesTr\\\\amos_0088.nii.gz', 'imagesTr\\\\amos_0089.nii.gz', 'imagesTr\\\\amos_0092.nii.gz', 'imagesTr\\\\amos_0094.nii.gz', 'imagesTr\\\\amos_0097.nii.gz', 'imagesTr\\\\amos_0098.nii.gz', 'imagesTr\\\\amos_0099.nii.gz', 'imagesTr\\\\amos_0102.nii.gz', 'imagesTr\\\\amos_0103.nii.gz', 'imagesTr\\\\amos_0104.nii.gz', 'imagesTr\\\\amos_0105.nii.gz', 'imagesTr\\\\amos_0109.nii.gz', 'imagesTr\\\\amos_0110.nii.gz', 'imagesTr\\\\amos_0111.nii.gz', 'imagesTr\\\\amos_0113.nii.gz', 'imagesTr\\\\amos_0115.nii.gz', 'imagesTr\\\\amos_0116.nii.gz', 'imagesTr\\\\amos_0118.nii.gz', 'imagesTr\\\\amos_0119.nii.gz', 'imagesTr\\\\amos_0121.nii.gz', 'imagesTr\\\\amos_0124.nii.gz', 'imagesTr\\\\amos_0125.nii.gz', 'imagesTr\\\\amos_0126.nii.gz', 'imagesTr\\\\amos_0127.nii.gz', 'imagesTr\\\\amos_0129.nii.gz', 'imagesTr\\\\amos_0131.nii.gz', 'imagesTr\\\\amos_0133.nii.gz', 'imagesTr\\\\amos_0134.nii.gz', 'imagesTr\\\\amos_0135.nii.gz', 'imagesTr\\\\amos_0137.nii.gz', 'imagesTr\\\\amos_0138.nii.gz', 'imagesTr\\\\amos_0141.nii.gz', 'imagesTr\\\\amos_0142.nii.gz', 'imagesTr\\\\amos_0143.nii.gz', 'imagesTr\\\\amos_0147.nii.gz', 'imagesTr\\\\amos_0149.nii.gz', 'imagesTr\\\\amos_0152.nii.gz', 'imagesTr\\\\amos_0153.nii.gz', 'imagesTr\\\\amos_0154.nii.gz', 'imagesTr\\\\amos_0156.nii.gz', 'imagesTr\\\\amos_0158.nii.gz', 'imagesTr\\\\amos_0159.nii.gz', 'imagesTr\\\\amos_0160.nii.gz', 'imagesTr\\\\amos_0161.nii.gz', 'imagesTr\\\\amos_0162.nii.gz', 'imagesTr\\\\amos_0166.nii.gz', 'imagesTr\\\\amos_0170.nii.gz', 'imagesTr\\\\amos_0171.nii.gz', 'imagesTr\\\\amos_0172.nii.gz', 'imagesTr\\\\amos_0173.nii.gz', 'imagesTr\\\\amos_0175.nii.gz', 'imagesTr\\\\amos_0177.nii.gz', 'imagesTr\\\\amos_0179.nii.gz', 'imagesTr\\\\amos_0180.nii.gz', 'imagesTr\\\\amos_0181.nii.gz', 'imagesTr\\\\amos_0184.nii.gz', 'imagesTr\\\\amos_0185.nii.gz', 'imagesTr\\\\amos_0186.nii.gz', 'imagesTr\\\\amos_0188.nii.gz', 'imagesTr\\\\amos_0190.nii.gz', 'imagesTr\\\\amos_0192.nii.gz', 'imagesTr\\\\amos_0193.nii.gz', 'imagesTr\\\\amos_0195.nii.gz', 'imagesTr\\\\amos_0196.nii.gz', 'imagesTr\\\\amos_0197.nii.gz', 'imagesTr\\\\amos_0198.nii.gz', 'imagesTr\\\\amos_0199.nii.gz', 'imagesTr\\\\amos_0212.nii.gz', 'imagesTr\\\\amos_0214.nii.gz', 'imagesTr\\\\amos_0215.nii.gz', 'imagesTr\\\\amos_0217.nii.gz', 'imagesTr\\\\amos_0224.nii.gz', 'imagesTr\\\\amos_0225.nii.gz', 'imagesTr\\\\amos_0226.nii.gz', 'imagesTr\\\\amos_0230.nii.gz', 'imagesTr\\\\amos_0231.nii.gz', 'imagesTr\\\\amos_0235.nii.gz', 'imagesTr\\\\amos_0237.nii.gz', 'imagesTr\\\\amos_0239.nii.gz', 'imagesTr\\\\amos_0242.nii.gz', 'imagesTr\\\\amos_0245.nii.gz', 'imagesTr\\\\amos_0248.nii.gz', 'imagesTr\\\\amos_0249.nii.gz', 'imagesTr\\\\amos_0254.nii.gz', 'imagesTr\\\\amos_0259.nii.gz', 'imagesTr\\\\amos_0263.nii.gz', 'imagesTr\\\\amos_0264.nii.gz', 'imagesTr\\\\amos_0268.nii.gz', 'imagesTr\\\\amos_0272.nii.gz', 'imagesTr\\\\amos_0273.nii.gz', 'imagesTr\\\\amos_0274.nii.gz', 'imagesTr\\\\amos_0276.nii.gz', 'imagesTr\\\\amos_0279.nii.gz', 'imagesTr\\\\amos_0281.nii.gz', 'imagesTr\\\\amos_0282.nii.gz', 'imagesTr\\\\amos_0288.nii.gz', 'imagesTr\\\\amos_0294.nii.gz', 'imagesTr\\\\amos_0296.nii.gz', 'imagesTr\\\\amos_0297.nii.gz', 'imagesTr\\\\amos_0299.nii.gz', 'imagesTr\\\\amos_0301.nii.gz', 'imagesTr\\\\amos_0302.nii.gz', 'imagesTr\\\\amos_0307.nii.gz', 'imagesTr\\\\amos_0317.nii.gz', 'imagesTr\\\\amos_0320.nii.gz', 'imagesTr\\\\amos_0321.nii.gz', 'imagesTr\\\\amos_0330.nii.gz', 'imagesTr\\\\amos_0332.nii.gz', 'imagesTr\\\\amos_0336.nii.gz', 'imagesTr\\\\amos_0337.nii.gz', 'imagesTr\\\\amos_0341.nii.gz', 'imagesTr\\\\amos_0348.nii.gz', 'imagesTr\\\\amos_0349.nii.gz', 'imagesTr\\\\amos_0350.nii.gz', 'imagesTr\\\\amos_0351.nii.gz', 'imagesTr\\\\amos_0353.nii.gz', 'imagesTr\\\\amos_0358.nii.gz', 'imagesTr\\\\amos_0361.nii.gz', 'imagesTr\\\\amos_0362.nii.gz', 'imagesTr\\\\amos_0366.nii.gz', 'imagesTr\\\\amos_0367.nii.gz', 'imagesTr\\\\amos_0370.nii.gz', 'imagesTr\\\\amos_0371.nii.gz', 'imagesTr\\\\amos_0374.nii.gz', 'imagesTr\\\\amos_0376.nii.gz', 'imagesTr\\\\amos_0378.nii.gz', 'imagesTr\\\\amos_0379.nii.gz', 'imagesTr\\\\amos_0380.nii.gz', 'imagesTr\\\\amos_0381.nii.gz', 'imagesTr\\\\amos_0383.nii.gz', 'imagesTr\\\\amos_0384.nii.gz', 'imagesTr\\\\amos_0387.nii.gz', 'imagesTr\\\\amos_0388.nii.gz', 'imagesTr\\\\amos_0390.nii.gz', 'imagesTr\\\\amos_0391.nii.gz', 'imagesTr\\\\amos_0392.nii.gz', 'imagesTr\\\\amos_0395.nii.gz', 'imagesTr\\\\amos_0396.nii.gz', 'imagesTr\\\\amos_0398.nii.gz', 'imagesTr\\\\amos_0400.nii.gz', 'imagesTr\\\\amos_0401.nii.gz', 'imagesTr\\\\amos_0402.nii.gz', 'imagesTr\\\\amos_0403.nii.gz', 'imagesTr\\\\amos_0404.nii.gz', 'imagesTr\\\\amos_0405.nii.gz', 'imagesTr\\\\amos_0406.nii.gz', 'imagesTr\\\\amos_0408.nii.gz', 'imagesTr\\\\amos_0410.nii.gz', 'imagesTr\\\\amos_0507.nii.gz', 'imagesTr\\\\amos_0508.nii.gz', 'imagesTr\\\\amos_0510.nii.gz', 'imagesTr\\\\amos_0514.nii.gz', 'imagesTr\\\\amos_0517.nii.gz', 'imagesTr\\\\amos_0518.nii.gz', 'imagesTr\\\\amos_0522.nii.gz', 'imagesTr\\\\amos_0530.nii.gz', 'imagesTr\\\\amos_0532.nii.gz', 'imagesTr\\\\amos_0538.nii.gz', 'imagesTr\\\\amos_0540.nii.gz', 'imagesTr\\\\amos_0541.nii.gz', 'imagesTr\\\\amos_0548.nii.gz', 'imagesTr\\\\amos_0551.nii.gz', 'imagesTr\\\\amos_0554.nii.gz', 'imagesTr\\\\amos_0555.nii.gz', 'imagesTr\\\\amos_0557.nii.gz', 'imagesTr\\\\amos_0558.nii.gz', 'imagesTr\\\\amos_0570.nii.gz', 'imagesTr\\\\amos_0571.nii.gz', 'imagesTr\\\\amos_0578.nii.gz', 'imagesTr\\\\amos_0580.nii.gz', 'imagesTr\\\\amos_0582.nii.gz', 'imagesTr\\\\amos_0583.nii.gz', 'imagesTr\\\\amos_0584.nii.gz', 'imagesTr\\\\amos_0585.nii.gz', 'imagesTr\\\\amos_0586.nii.gz', 'imagesTr\\\\amos_0587.nii.gz', 'imagesTr\\\\amos_0588.nii.gz', 'imagesTr\\\\amos_0589.nii.gz', 'imagesTr\\\\amos_0590.nii.gz', 'imagesTr\\\\amos_0591.nii.gz', 'imagesTr\\\\amos_0592.nii.gz', 'imagesTr\\\\amos_0593.nii.gz', 'imagesTr\\\\amos_0594.nii.gz', 'imagesTr\\\\amos_0595.nii.gz', 'imagesTr\\\\amos_0596.nii.gz', 'imagesTr\\\\amos_0597.nii.gz', 'imagesTr\\\\amos_0599.nii.gz', 'imagesTr\\\\amos_0600.nii.gz']\n",
      "['labelsTr\\\\amos_0001.nii.gz', 'labelsTr\\\\amos_0004.nii.gz', 'labelsTr\\\\amos_0005.nii.gz', 'labelsTr\\\\amos_0006.nii.gz', 'labelsTr\\\\amos_0007.nii.gz', 'labelsTr\\\\amos_0009.nii.gz', 'labelsTr\\\\amos_0010.nii.gz', 'labelsTr\\\\amos_0011.nii.gz', 'labelsTr\\\\amos_0014.nii.gz', 'labelsTr\\\\amos_0015.nii.gz', 'labelsTr\\\\amos_0016.nii.gz', 'labelsTr\\\\amos_0017.nii.gz', 'labelsTr\\\\amos_0019.nii.gz', 'labelsTr\\\\amos_0021.nii.gz', 'labelsTr\\\\amos_0023.nii.gz', 'labelsTr\\\\amos_0024.nii.gz', 'labelsTr\\\\amos_0025.nii.gz', 'labelsTr\\\\amos_0027.nii.gz', 'labelsTr\\\\amos_0030.nii.gz', 'labelsTr\\\\amos_0033.nii.gz', 'labelsTr\\\\amos_0035.nii.gz', 'labelsTr\\\\amos_0036.nii.gz', 'labelsTr\\\\amos_0038.nii.gz', 'labelsTr\\\\amos_0042.nii.gz', 'labelsTr\\\\amos_0043.nii.gz', 'labelsTr\\\\amos_0044.nii.gz', 'labelsTr\\\\amos_0045.nii.gz', 'labelsTr\\\\amos_0047.nii.gz', 'labelsTr\\\\amos_0048.nii.gz', 'labelsTr\\\\amos_0049.nii.gz', 'labelsTr\\\\amos_0050.nii.gz', 'labelsTr\\\\amos_0052.nii.gz', 'labelsTr\\\\amos_0054.nii.gz', 'labelsTr\\\\amos_0057.nii.gz', 'labelsTr\\\\amos_0058.nii.gz', 'labelsTr\\\\amos_0059.nii.gz', 'labelsTr\\\\amos_0060.nii.gz', 'labelsTr\\\\amos_0064.nii.gz', 'labelsTr\\\\amos_0066.nii.gz', 'labelsTr\\\\amos_0067.nii.gz', 'labelsTr\\\\amos_0069.nii.gz', 'labelsTr\\\\amos_0071.nii.gz', 'labelsTr\\\\amos_0072.nii.gz', 'labelsTr\\\\amos_0075.nii.gz', 'labelsTr\\\\amos_0076.nii.gz', 'labelsTr\\\\amos_0077.nii.gz', 'labelsTr\\\\amos_0078.nii.gz', 'labelsTr\\\\amos_0079.nii.gz', 'labelsTr\\\\amos_0081.nii.gz', 'labelsTr\\\\amos_0083.nii.gz', 'labelsTr\\\\amos_0084.nii.gz', 'labelsTr\\\\amos_0086.nii.gz', 'labelsTr\\\\amos_0088.nii.gz', 'labelsTr\\\\amos_0089.nii.gz', 'labelsTr\\\\amos_0092.nii.gz', 'labelsTr\\\\amos_0094.nii.gz', 'labelsTr\\\\amos_0097.nii.gz', 'labelsTr\\\\amos_0098.nii.gz', 'labelsTr\\\\amos_0099.nii.gz', 'labelsTr\\\\amos_0102.nii.gz', 'labelsTr\\\\amos_0103.nii.gz', 'labelsTr\\\\amos_0104.nii.gz', 'labelsTr\\\\amos_0105.nii.gz', 'labelsTr\\\\amos_0109.nii.gz', 'labelsTr\\\\amos_0110.nii.gz', 'labelsTr\\\\amos_0111.nii.gz', 'labelsTr\\\\amos_0113.nii.gz', 'labelsTr\\\\amos_0115.nii.gz', 'labelsTr\\\\amos_0116.nii.gz', 'labelsTr\\\\amos_0118.nii.gz', 'labelsTr\\\\amos_0119.nii.gz', 'labelsTr\\\\amos_0121.nii.gz', 'labelsTr\\\\amos_0124.nii.gz', 'labelsTr\\\\amos_0125.nii.gz', 'labelsTr\\\\amos_0126.nii.gz', 'labelsTr\\\\amos_0127.nii.gz', 'labelsTr\\\\amos_0129.nii.gz', 'labelsTr\\\\amos_0131.nii.gz', 'labelsTr\\\\amos_0133.nii.gz', 'labelsTr\\\\amos_0134.nii.gz', 'labelsTr\\\\amos_0135.nii.gz', 'labelsTr\\\\amos_0137.nii.gz', 'labelsTr\\\\amos_0138.nii.gz', 'labelsTr\\\\amos_0141.nii.gz', 'labelsTr\\\\amos_0142.nii.gz', 'labelsTr\\\\amos_0143.nii.gz', 'labelsTr\\\\amos_0147.nii.gz', 'labelsTr\\\\amos_0149.nii.gz', 'labelsTr\\\\amos_0152.nii.gz', 'labelsTr\\\\amos_0153.nii.gz', 'labelsTr\\\\amos_0154.nii.gz', 'labelsTr\\\\amos_0156.nii.gz', 'labelsTr\\\\amos_0158.nii.gz', 'labelsTr\\\\amos_0159.nii.gz', 'labelsTr\\\\amos_0160.nii.gz', 'labelsTr\\\\amos_0161.nii.gz', 'labelsTr\\\\amos_0162.nii.gz', 'labelsTr\\\\amos_0166.nii.gz', 'labelsTr\\\\amos_0170.nii.gz', 'labelsTr\\\\amos_0171.nii.gz', 'labelsTr\\\\amos_0172.nii.gz', 'labelsTr\\\\amos_0173.nii.gz', 'labelsTr\\\\amos_0175.nii.gz', 'labelsTr\\\\amos_0177.nii.gz', 'labelsTr\\\\amos_0179.nii.gz', 'labelsTr\\\\amos_0180.nii.gz', 'labelsTr\\\\amos_0181.nii.gz', 'labelsTr\\\\amos_0184.nii.gz', 'labelsTr\\\\amos_0185.nii.gz', 'labelsTr\\\\amos_0186.nii.gz', 'labelsTr\\\\amos_0188.nii.gz', 'labelsTr\\\\amos_0190.nii.gz', 'labelsTr\\\\amos_0192.nii.gz', 'labelsTr\\\\amos_0193.nii.gz', 'labelsTr\\\\amos_0195.nii.gz', 'labelsTr\\\\amos_0196.nii.gz', 'labelsTr\\\\amos_0197.nii.gz', 'labelsTr\\\\amos_0198.nii.gz', 'labelsTr\\\\amos_0199.nii.gz', 'labelsTr\\\\amos_0212.nii.gz', 'labelsTr\\\\amos_0214.nii.gz', 'labelsTr\\\\amos_0215.nii.gz', 'labelsTr\\\\amos_0217.nii.gz', 'labelsTr\\\\amos_0224.nii.gz', 'labelsTr\\\\amos_0225.nii.gz', 'labelsTr\\\\amos_0226.nii.gz', 'labelsTr\\\\amos_0230.nii.gz', 'labelsTr\\\\amos_0231.nii.gz', 'labelsTr\\\\amos_0235.nii.gz', 'labelsTr\\\\amos_0237.nii.gz', 'labelsTr\\\\amos_0239.nii.gz', 'labelsTr\\\\amos_0242.nii.gz', 'labelsTr\\\\amos_0245.nii.gz', 'labelsTr\\\\amos_0248.nii.gz', 'labelsTr\\\\amos_0249.nii.gz', 'labelsTr\\\\amos_0254.nii.gz', 'labelsTr\\\\amos_0259.nii.gz', 'labelsTr\\\\amos_0263.nii.gz', 'labelsTr\\\\amos_0264.nii.gz', 'labelsTr\\\\amos_0268.nii.gz', 'labelsTr\\\\amos_0272.nii.gz', 'labelsTr\\\\amos_0273.nii.gz', 'labelsTr\\\\amos_0274.nii.gz', 'labelsTr\\\\amos_0276.nii.gz', 'labelsTr\\\\amos_0279.nii.gz', 'labelsTr\\\\amos_0281.nii.gz', 'labelsTr\\\\amos_0282.nii.gz', 'labelsTr\\\\amos_0288.nii.gz', 'labelsTr\\\\amos_0294.nii.gz', 'labelsTr\\\\amos_0296.nii.gz', 'labelsTr\\\\amos_0297.nii.gz', 'labelsTr\\\\amos_0299.nii.gz', 'labelsTr\\\\amos_0301.nii.gz', 'labelsTr\\\\amos_0302.nii.gz', 'labelsTr\\\\amos_0307.nii.gz', 'labelsTr\\\\amos_0317.nii.gz', 'labelsTr\\\\amos_0320.nii.gz', 'labelsTr\\\\amos_0321.nii.gz', 'labelsTr\\\\amos_0330.nii.gz', 'labelsTr\\\\amos_0332.nii.gz', 'labelsTr\\\\amos_0336.nii.gz', 'labelsTr\\\\amos_0337.nii.gz', 'labelsTr\\\\amos_0341.nii.gz', 'labelsTr\\\\amos_0348.nii.gz', 'labelsTr\\\\amos_0349.nii.gz', 'labelsTr\\\\amos_0350.nii.gz', 'labelsTr\\\\amos_0351.nii.gz', 'labelsTr\\\\amos_0353.nii.gz', 'labelsTr\\\\amos_0358.nii.gz', 'labelsTr\\\\amos_0361.nii.gz', 'labelsTr\\\\amos_0362.nii.gz', 'labelsTr\\\\amos_0366.nii.gz', 'labelsTr\\\\amos_0367.nii.gz', 'labelsTr\\\\amos_0370.nii.gz', 'labelsTr\\\\amos_0371.nii.gz', 'labelsTr\\\\amos_0374.nii.gz', 'labelsTr\\\\amos_0376.nii.gz', 'labelsTr\\\\amos_0378.nii.gz', 'labelsTr\\\\amos_0379.nii.gz', 'labelsTr\\\\amos_0380.nii.gz', 'labelsTr\\\\amos_0381.nii.gz', 'labelsTr\\\\amos_0383.nii.gz', 'labelsTr\\\\amos_0384.nii.gz', 'labelsTr\\\\amos_0387.nii.gz', 'labelsTr\\\\amos_0388.nii.gz', 'labelsTr\\\\amos_0390.nii.gz', 'labelsTr\\\\amos_0391.nii.gz', 'labelsTr\\\\amos_0392.nii.gz', 'labelsTr\\\\amos_0395.nii.gz', 'labelsTr\\\\amos_0396.nii.gz', 'labelsTr\\\\amos_0398.nii.gz', 'labelsTr\\\\amos_0400.nii.gz', 'labelsTr\\\\amos_0401.nii.gz', 'labelsTr\\\\amos_0402.nii.gz', 'labelsTr\\\\amos_0403.nii.gz', 'labelsTr\\\\amos_0404.nii.gz', 'labelsTr\\\\amos_0405.nii.gz', 'labelsTr\\\\amos_0406.nii.gz', 'labelsTr\\\\amos_0408.nii.gz', 'labelsTr\\\\amos_0410.nii.gz', 'labelsTr\\\\amos_0507.nii.gz', 'labelsTr\\\\amos_0508.nii.gz', 'labelsTr\\\\amos_0510.nii.gz', 'labelsTr\\\\amos_0514.nii.gz', 'labelsTr\\\\amos_0517.nii.gz', 'labelsTr\\\\amos_0518.nii.gz', 'labelsTr\\\\amos_0522.nii.gz', 'labelsTr\\\\amos_0530.nii.gz', 'labelsTr\\\\amos_0532.nii.gz', 'labelsTr\\\\amos_0538.nii.gz', 'labelsTr\\\\amos_0540.nii.gz', 'labelsTr\\\\amos_0541.nii.gz', 'labelsTr\\\\amos_0548.nii.gz', 'labelsTr\\\\amos_0551.nii.gz', 'labelsTr\\\\amos_0554.nii.gz', 'labelsTr\\\\amos_0555.nii.gz', 'labelsTr\\\\amos_0557.nii.gz', 'labelsTr\\\\amos_0558.nii.gz', 'labelsTr\\\\amos_0570.nii.gz', 'labelsTr\\\\amos_0571.nii.gz', 'labelsTr\\\\amos_0578.nii.gz', 'labelsTr\\\\amos_0580.nii.gz', 'labelsTr\\\\amos_0582.nii.gz', 'labelsTr\\\\amos_0583.nii.gz', 'labelsTr\\\\amos_0584.nii.gz', 'labelsTr\\\\amos_0585.nii.gz', 'labelsTr\\\\amos_0586.nii.gz', 'labelsTr\\\\amos_0587.nii.gz', 'labelsTr\\\\amos_0588.nii.gz', 'labelsTr\\\\amos_0589.nii.gz', 'labelsTr\\\\amos_0590.nii.gz', 'labelsTr\\\\amos_0591.nii.gz', 'labelsTr\\\\amos_0592.nii.gz', 'labelsTr\\\\amos_0593.nii.gz', 'labelsTr\\\\amos_0594.nii.gz', 'labelsTr\\\\amos_0595.nii.gz', 'labelsTr\\\\amos_0596.nii.gz', 'labelsTr\\\\amos_0597.nii.gz', 'labelsTr\\\\amos_0599.nii.gz', 'labelsTr\\\\amos_0600.nii.gz']\n"
     ]
    }
   ],
   "source": [
    "imgs = sorted(glob.glob(os.path.join(\"imagesTr/*.nii.gz\")))\n",
    "segmentations = sorted(glob.glob(os.path.join(\"labelsTr/*.nii.gz\")))\n",
    "print(imgs)\n",
    "print(segmentations)"
   ],
   "metadata": {
    "collapsed": false,
    "pycharm": {
     "name": "#%%\n"
    }
   }
  },
  {
   "cell_type": "code",
   "execution_count": 45,
   "outputs": [],
   "source": [
    "train_files = [\n",
    "    {\"image\": img, \"label\": seg} for img, seg in zip(imgs[:20], segmentations[:20])\n",
    "]\n",
    "val_files = [\n",
    "    {\"image\": img, \"label\": seg} for img, seg in zip(imgs[-20:], segmentations[-20:])\n",
    "]"
   ],
   "metadata": {
    "collapsed": false,
    "pycharm": {
     "name": "#%%\n"
    }
   }
  },
  {
   "cell_type": "code",
   "execution_count": 48,
   "outputs": [
    {
     "ename": "RuntimeError",
     "evalue": "DataLoader worker (pid(s) 2732, 4768, 22444, 25852) exited unexpectedly",
     "output_type": "error",
     "traceback": [
      "\u001B[1;31m---------------------------------------------------------------------------\u001B[0m",
      "\u001B[1;31mEmpty\u001B[0m                                     Traceback (most recent call last)",
      "File \u001B[1;32m~\\OneDrive\\Documents\\GitHub\\Multi-Modality-Abdominal-Multi-Organ-Segmentation-Challenge-2022\\venv\\lib\\site-packages\\torch\\utils\\data\\dataloader.py:1134\u001B[0m, in \u001B[0;36m_MultiProcessingDataLoaderIter._try_get_data\u001B[1;34m(self, timeout)\u001B[0m\n\u001B[0;32m   1133\u001B[0m \u001B[38;5;28;01mtry\u001B[39;00m:\n\u001B[1;32m-> 1134\u001B[0m     data \u001B[38;5;241m=\u001B[39m \u001B[38;5;28;43mself\u001B[39;49m\u001B[38;5;241;43m.\u001B[39;49m\u001B[43m_data_queue\u001B[49m\u001B[38;5;241;43m.\u001B[39;49m\u001B[43mget\u001B[49m\u001B[43m(\u001B[49m\u001B[43mtimeout\u001B[49m\u001B[38;5;241;43m=\u001B[39;49m\u001B[43mtimeout\u001B[49m\u001B[43m)\u001B[49m\n\u001B[0;32m   1135\u001B[0m     \u001B[38;5;28;01mreturn\u001B[39;00m (\u001B[38;5;28;01mTrue\u001B[39;00m, data)\n",
      "File \u001B[1;32m~\\AppData\\Local\\Programs\\Python\\Python39\\lib\\multiprocessing\\queues.py:114\u001B[0m, in \u001B[0;36mQueue.get\u001B[1;34m(self, block, timeout)\u001B[0m\n\u001B[0;32m    113\u001B[0m     \u001B[38;5;28;01mif\u001B[39;00m \u001B[38;5;129;01mnot\u001B[39;00m \u001B[38;5;28mself\u001B[39m\u001B[38;5;241m.\u001B[39m_poll(timeout):\n\u001B[1;32m--> 114\u001B[0m         \u001B[38;5;28;01mraise\u001B[39;00m Empty\n\u001B[0;32m    115\u001B[0m \u001B[38;5;28;01melif\u001B[39;00m \u001B[38;5;129;01mnot\u001B[39;00m \u001B[38;5;28mself\u001B[39m\u001B[38;5;241m.\u001B[39m_poll():\n",
      "\u001B[1;31mEmpty\u001B[0m: ",
      "\nThe above exception was the direct cause of the following exception:\n",
      "\u001B[1;31mRuntimeError\u001B[0m                              Traceback (most recent call last)",
      "Input \u001B[1;32mIn [48]\u001B[0m, in \u001B[0;36m<cell line: 34>\u001B[1;34m()\u001B[0m\n\u001B[0;32m     30\u001B[0m \u001B[38;5;66;03m# use batch_size=2 to load images and use RandCropByPosNegLabeld to generate 2 x 4 images for network training\u001B[39;00m\n\u001B[0;32m     31\u001B[0m check_loader \u001B[38;5;241m=\u001B[39m torch\u001B[38;5;241m.\u001B[39mutils\u001B[38;5;241m.\u001B[39mdata\u001B[38;5;241m.\u001B[39mDataLoader(\n\u001B[0;32m     32\u001B[0m     check_ds, batch_size\u001B[38;5;241m=\u001B[39m\u001B[38;5;241m2\u001B[39m, num_workers\u001B[38;5;241m=\u001B[39m\u001B[38;5;241m4\u001B[39m, collate_fn\u001B[38;5;241m=\u001B[39mlist_data_collate\n\u001B[0;32m     33\u001B[0m )\n\u001B[1;32m---> 34\u001B[0m check_data \u001B[38;5;241m=\u001B[39m \u001B[43mfirst\u001B[49m\u001B[43m(\u001B[49m\u001B[43mcheck_loader\u001B[49m\u001B[43m)\u001B[49m\n\u001B[0;32m     35\u001B[0m \u001B[38;5;28mprint\u001B[39m(check_data[\u001B[38;5;124m\"\u001B[39m\u001B[38;5;124mimage\u001B[39m\u001B[38;5;124m\"\u001B[39m]\u001B[38;5;241m.\u001B[39mshape, check_data[\u001B[38;5;124m\"\u001B[39m\u001B[38;5;124mlabel\u001B[39m\u001B[38;5;124m\"\u001B[39m]\u001B[38;5;241m.\u001B[39mshape)\n\u001B[0;32m     37\u001B[0m \u001B[38;5;66;03m# create a training data loader\u001B[39;00m\n",
      "File \u001B[1;32m~\\OneDrive\\Documents\\GitHub\\Multi-Modality-Abdominal-Multi-Organ-Segmentation-Challenge-2022\\venv\\lib\\site-packages\\monai\\utils\\misc.py:82\u001B[0m, in \u001B[0;36mfirst\u001B[1;34m(iterable, default)\u001B[0m\n\u001B[0;32m     78\u001B[0m \u001B[38;5;28;01mdef\u001B[39;00m \u001B[38;5;21mfirst\u001B[39m(iterable, default\u001B[38;5;241m=\u001B[39m\u001B[38;5;28;01mNone\u001B[39;00m):\n\u001B[0;32m     79\u001B[0m     \u001B[38;5;124;03m\"\"\"\u001B[39;00m\n\u001B[0;32m     80\u001B[0m \u001B[38;5;124;03m    Returns the first item in the given iterable or `default` if empty, meaningful mostly with 'for' expressions.\u001B[39;00m\n\u001B[0;32m     81\u001B[0m \u001B[38;5;124;03m    \"\"\"\u001B[39;00m\n\u001B[1;32m---> 82\u001B[0m     \u001B[38;5;28;01mfor\u001B[39;00m i \u001B[38;5;129;01min\u001B[39;00m iterable:\n\u001B[0;32m     83\u001B[0m         \u001B[38;5;28;01mreturn\u001B[39;00m i\n\u001B[0;32m     84\u001B[0m     \u001B[38;5;28;01mreturn\u001B[39;00m default\n",
      "File \u001B[1;32m~\\OneDrive\\Documents\\GitHub\\Multi-Modality-Abdominal-Multi-Organ-Segmentation-Challenge-2022\\venv\\lib\\site-packages\\torch\\utils\\data\\dataloader.py:652\u001B[0m, in \u001B[0;36m_BaseDataLoaderIter.__next__\u001B[1;34m(self)\u001B[0m\n\u001B[0;32m    649\u001B[0m \u001B[38;5;28;01mif\u001B[39;00m \u001B[38;5;28mself\u001B[39m\u001B[38;5;241m.\u001B[39m_sampler_iter \u001B[38;5;129;01mis\u001B[39;00m \u001B[38;5;28;01mNone\u001B[39;00m:\n\u001B[0;32m    650\u001B[0m     \u001B[38;5;66;03m# TODO(https://github.com/pytorch/pytorch/issues/76750)\u001B[39;00m\n\u001B[0;32m    651\u001B[0m     \u001B[38;5;28mself\u001B[39m\u001B[38;5;241m.\u001B[39m_reset()  \u001B[38;5;66;03m# type: ignore[call-arg]\u001B[39;00m\n\u001B[1;32m--> 652\u001B[0m data \u001B[38;5;241m=\u001B[39m \u001B[38;5;28;43mself\u001B[39;49m\u001B[38;5;241;43m.\u001B[39;49m\u001B[43m_next_data\u001B[49m\u001B[43m(\u001B[49m\u001B[43m)\u001B[49m\n\u001B[0;32m    653\u001B[0m \u001B[38;5;28mself\u001B[39m\u001B[38;5;241m.\u001B[39m_num_yielded \u001B[38;5;241m+\u001B[39m\u001B[38;5;241m=\u001B[39m \u001B[38;5;241m1\u001B[39m\n\u001B[0;32m    654\u001B[0m \u001B[38;5;28;01mif\u001B[39;00m \u001B[38;5;28mself\u001B[39m\u001B[38;5;241m.\u001B[39m_dataset_kind \u001B[38;5;241m==\u001B[39m _DatasetKind\u001B[38;5;241m.\u001B[39mIterable \u001B[38;5;129;01mand\u001B[39;00m \\\n\u001B[0;32m    655\u001B[0m         \u001B[38;5;28mself\u001B[39m\u001B[38;5;241m.\u001B[39m_IterableDataset_len_called \u001B[38;5;129;01mis\u001B[39;00m \u001B[38;5;129;01mnot\u001B[39;00m \u001B[38;5;28;01mNone\u001B[39;00m \u001B[38;5;129;01mand\u001B[39;00m \\\n\u001B[0;32m    656\u001B[0m         \u001B[38;5;28mself\u001B[39m\u001B[38;5;241m.\u001B[39m_num_yielded \u001B[38;5;241m>\u001B[39m \u001B[38;5;28mself\u001B[39m\u001B[38;5;241m.\u001B[39m_IterableDataset_len_called:\n",
      "File \u001B[1;32m~\\OneDrive\\Documents\\GitHub\\Multi-Modality-Abdominal-Multi-Organ-Segmentation-Challenge-2022\\venv\\lib\\site-packages\\torch\\utils\\data\\dataloader.py:1330\u001B[0m, in \u001B[0;36m_MultiProcessingDataLoaderIter._next_data\u001B[1;34m(self)\u001B[0m\n\u001B[0;32m   1327\u001B[0m     \u001B[38;5;28;01mreturn\u001B[39;00m \u001B[38;5;28mself\u001B[39m\u001B[38;5;241m.\u001B[39m_process_data(data)\n\u001B[0;32m   1329\u001B[0m \u001B[38;5;28;01massert\u001B[39;00m \u001B[38;5;129;01mnot\u001B[39;00m \u001B[38;5;28mself\u001B[39m\u001B[38;5;241m.\u001B[39m_shutdown \u001B[38;5;129;01mand\u001B[39;00m \u001B[38;5;28mself\u001B[39m\u001B[38;5;241m.\u001B[39m_tasks_outstanding \u001B[38;5;241m>\u001B[39m \u001B[38;5;241m0\u001B[39m\n\u001B[1;32m-> 1330\u001B[0m idx, data \u001B[38;5;241m=\u001B[39m \u001B[38;5;28;43mself\u001B[39;49m\u001B[38;5;241;43m.\u001B[39;49m\u001B[43m_get_data\u001B[49m\u001B[43m(\u001B[49m\u001B[43m)\u001B[49m\n\u001B[0;32m   1331\u001B[0m \u001B[38;5;28mself\u001B[39m\u001B[38;5;241m.\u001B[39m_tasks_outstanding \u001B[38;5;241m-\u001B[39m\u001B[38;5;241m=\u001B[39m \u001B[38;5;241m1\u001B[39m\n\u001B[0;32m   1332\u001B[0m \u001B[38;5;28;01mif\u001B[39;00m \u001B[38;5;28mself\u001B[39m\u001B[38;5;241m.\u001B[39m_dataset_kind \u001B[38;5;241m==\u001B[39m _DatasetKind\u001B[38;5;241m.\u001B[39mIterable:\n\u001B[0;32m   1333\u001B[0m     \u001B[38;5;66;03m# Check for _IterableDatasetStopIteration\u001B[39;00m\n",
      "File \u001B[1;32m~\\OneDrive\\Documents\\GitHub\\Multi-Modality-Abdominal-Multi-Organ-Segmentation-Challenge-2022\\venv\\lib\\site-packages\\torch\\utils\\data\\dataloader.py:1296\u001B[0m, in \u001B[0;36m_MultiProcessingDataLoaderIter._get_data\u001B[1;34m(self)\u001B[0m\n\u001B[0;32m   1292\u001B[0m     \u001B[38;5;66;03m# In this case, `self._data_queue` is a `queue.Queue`,. But we don't\u001B[39;00m\n\u001B[0;32m   1293\u001B[0m     \u001B[38;5;66;03m# need to call `.task_done()` because we don't use `.join()`.\u001B[39;00m\n\u001B[0;32m   1294\u001B[0m \u001B[38;5;28;01melse\u001B[39;00m:\n\u001B[0;32m   1295\u001B[0m     \u001B[38;5;28;01mwhile\u001B[39;00m \u001B[38;5;28;01mTrue\u001B[39;00m:\n\u001B[1;32m-> 1296\u001B[0m         success, data \u001B[38;5;241m=\u001B[39m \u001B[38;5;28;43mself\u001B[39;49m\u001B[38;5;241;43m.\u001B[39;49m\u001B[43m_try_get_data\u001B[49m\u001B[43m(\u001B[49m\u001B[43m)\u001B[49m\n\u001B[0;32m   1297\u001B[0m         \u001B[38;5;28;01mif\u001B[39;00m success:\n\u001B[0;32m   1298\u001B[0m             \u001B[38;5;28;01mreturn\u001B[39;00m data\n",
      "File \u001B[1;32m~\\OneDrive\\Documents\\GitHub\\Multi-Modality-Abdominal-Multi-Organ-Segmentation-Challenge-2022\\venv\\lib\\site-packages\\torch\\utils\\data\\dataloader.py:1147\u001B[0m, in \u001B[0;36m_MultiProcessingDataLoaderIter._try_get_data\u001B[1;34m(self, timeout)\u001B[0m\n\u001B[0;32m   1145\u001B[0m \u001B[38;5;28;01mif\u001B[39;00m \u001B[38;5;28mlen\u001B[39m(failed_workers) \u001B[38;5;241m>\u001B[39m \u001B[38;5;241m0\u001B[39m:\n\u001B[0;32m   1146\u001B[0m     pids_str \u001B[38;5;241m=\u001B[39m \u001B[38;5;124m'\u001B[39m\u001B[38;5;124m, \u001B[39m\u001B[38;5;124m'\u001B[39m\u001B[38;5;241m.\u001B[39mjoin(\u001B[38;5;28mstr\u001B[39m(w\u001B[38;5;241m.\u001B[39mpid) \u001B[38;5;28;01mfor\u001B[39;00m w \u001B[38;5;129;01min\u001B[39;00m failed_workers)\n\u001B[1;32m-> 1147\u001B[0m     \u001B[38;5;28;01mraise\u001B[39;00m \u001B[38;5;167;01mRuntimeError\u001B[39;00m(\u001B[38;5;124m'\u001B[39m\u001B[38;5;124mDataLoader worker (pid(s) \u001B[39m\u001B[38;5;132;01m{}\u001B[39;00m\u001B[38;5;124m) exited unexpectedly\u001B[39m\u001B[38;5;124m'\u001B[39m\u001B[38;5;241m.\u001B[39mformat(pids_str)) \u001B[38;5;28;01mfrom\u001B[39;00m \u001B[38;5;21;01me\u001B[39;00m\n\u001B[0;32m   1148\u001B[0m \u001B[38;5;28;01mif\u001B[39;00m \u001B[38;5;28misinstance\u001B[39m(e, queue\u001B[38;5;241m.\u001B[39mEmpty):\n\u001B[0;32m   1149\u001B[0m     \u001B[38;5;28;01mreturn\u001B[39;00m (\u001B[38;5;28;01mFalse\u001B[39;00m, \u001B[38;5;28;01mNone\u001B[39;00m)\n",
      "\u001B[1;31mRuntimeError\u001B[0m: DataLoader worker (pid(s) 2732, 4768, 22444, 25852) exited unexpectedly"
     ]
    }
   ],
   "source": [
    "# define transforms for image and segmentation\n",
    "train_transforms = Compose(\n",
    "    [\n",
    "        LoadImaged(keys=[\"image\", \"label\"]),\n",
    "        AsChannelFirstd(keys=[\"image\", \"label\"], channel_dim=-1),\n",
    "        ScaleIntensityd(keys=[\"image\", \"label\"]),\n",
    "        RandCropByPosNegLabeld(\n",
    "            keys=[\"image\", \"label\"],\n",
    "            label_key=\"label\",\n",
    "            spatial_size=[96, 96, 96],\n",
    "            pos=1,\n",
    "            neg=1,\n",
    "            num_samples=4,\n",
    "        ),\n",
    "        RandRotate90d(keys=[\"image\", \"label\"], prob=0.5, spatial_axes=[0, 2]),\n",
    "        EnsureTyped(keys=[\"image\", \"label\"]),\n",
    "    ]\n",
    ")\n",
    "val_transforms = Compose(\n",
    "    [\n",
    "        LoadImaged(keys=[\"image\", \"label\"]),\n",
    "        AsChannelFirstd(keys=[\"image\", \"label\"], channel_dim=-1),\n",
    "        ScaleIntensityd(keys=[\"image\", \"label\"]),\n",
    "        EnsureTyped(keys=[\"image\", \"label\"]),\n",
    "    ]\n",
    ")\n",
    "\n",
    "# define dataset, data loader\n",
    "check_ds = Dataset(data=train_files, transform=train_transforms)\n",
    "# use batch_size=2 to load images and use RandCropByPosNegLabeld to generate 2 x 4 images for network training\n",
    "check_loader = torch.utils.data.DataLoader(\n",
    "    check_ds, batch_size=2, num_workers=4, collate_fn=list_data_collate\n",
    ")\n",
    "check_data = first(check_loader)\n",
    "print(check_data[\"image\"].shape, check_data[\"label\"].shape)\n",
    "\n",
    "# create a training data loader\n",
    "train_ds = Dataset(data=train_files, transform=train_transforms)\n",
    "# use batch_size=2 to load images and use RandCropByPosNegLabeld to generate 2 x 4 images for network training\n",
    "train_loader = torch.utils.data.DataLoader(\n",
    "    train_ds,\n",
    "    batch_size=2,\n",
    "    shuffle=True,\n",
    "    num_workers=4,\n",
    "    collate_fn=list_data_collate,\n",
    "    pin_memory=torch.cuda.is_available(),\n",
    ")\n",
    "# create a validation data loader\n",
    "val_ds = Dataset(data=val_files, transform=val_transforms)\n",
    "val_loader = torch.utils.data.DataLoader(\n",
    "    val_ds, batch_size=1, num_workers=4, collate_fn=list_data_collate\n",
    ")"
   ],
   "metadata": {
    "collapsed": false,
    "pycharm": {
     "name": "#%%\n"
    }
   }
  },
  {
   "cell_type": "code",
   "execution_count": null,
   "outputs": [],
   "source": [],
   "metadata": {
    "collapsed": false,
    "pycharm": {
     "name": "#%%\n"
    }
   }
  }
 ],
 "metadata": {
  "kernelspec": {
   "display_name": "Python 3",
   "language": "python",
   "name": "python3"
  },
  "language_info": {
   "codemirror_mode": {
    "name": "ipython",
    "version": 2
   },
   "file_extension": ".py",
   "mimetype": "text/x-python",
   "name": "python",
   "nbconvert_exporter": "python",
   "pygments_lexer": "ipython2",
   "version": "2.7.6"
  }
 },
 "nbformat": 4,
 "nbformat_minor": 0
}